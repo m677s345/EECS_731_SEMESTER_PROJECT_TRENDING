{
 "cells": [
  {
   "cell_type": "code",
   "execution_count": 19,
   "metadata": {},
   "outputs": [],
   "source": [
    "import pandas as pd\n",
    "import numpy as np\n",
    "import datetime as dt\n",
    "import matplotlib.pyplot as plt\n",
    "from sklearn.model_selection import train_test_split\n",
    "from sklearn.ensemble import RandomForestRegressor\n",
    "from sklearn.ensemble import GradientBoostingRegressor\n",
    "from sklearn.model_selection import RandomizedSearchCV\n",
    "from sklearn.metrics import r2_score, mean_squared_error as mse\n",
    "import seaborn as sns\n",
    "from sklearn import tree\n",
    "from pprint import pprint"
   ]
  },
  {
   "cell_type": "markdown",
   "metadata": {},
   "source": [
    "df is trending data from August 2020 - mid October 2020. This was used as the training dataset. df2 is the test set and spans from mid October to early November 2020."
   ]
  },
  {
   "cell_type": "code",
   "execution_count": 20,
   "metadata": {},
   "outputs": [],
   "source": [
    "df=pd.read_csv('US_youtube_trending_data.csv')\n",
    "df2=pd.read_csv('US_youtube_trending_data1.csv')"
   ]
  },
  {
   "cell_type": "code",
   "execution_count": 21,
   "metadata": {},
   "outputs": [
    {
     "data": {
      "text/plain": [
       "video_id             object\n",
       "title                object\n",
       "publishedAt          object\n",
       "channelId            object\n",
       "channelTitle         object\n",
       "categoryId            int64\n",
       "trending_date        object\n",
       "tags                 object\n",
       "view_count            int64\n",
       "likes                 int64\n",
       "dislikes              int64\n",
       "comment_count         int64\n",
       "thumbnail_link       object\n",
       "comments_disabled      bool\n",
       "ratings_disabled       bool\n",
       "description          object\n",
       "dtype: object"
      ]
     },
     "execution_count": 21,
     "metadata": {},
     "output_type": "execute_result"
    }
   ],
   "source": [
    "df.dtypes"
   ]
  },
  {
   "cell_type": "code",
   "execution_count": 22,
   "metadata": {},
   "outputs": [],
   "source": [
    "df=df.drop(df[['video_id','title','channelTitle','thumbnail_link','tags','description','comments_disabled','ratings_disabled']], axis=1)\n",
    "df2=df2.drop(df2[['video_id','title','channelTitle','thumbnail_link','tags','description','comments_disabled','ratings_disabled']], axis=1)"
   ]
  },
  {
   "cell_type": "code",
   "execution_count": 23,
   "metadata": {},
   "outputs": [],
   "source": [
    "df.isnull().any()\n",
    "df['publishedAt']=pd.to_datetime(df['publishedAt']).dt.tz_localize(None)\n",
    "df['trending_date']=pd.to_datetime(df['trending_date']).dt.tz_localize(None)\n",
    "df1=df\n",
    "\n",
    "df2.isnull().any()\n",
    "df2['publishedAt']=pd.to_datetime(df2['publishedAt']).dt.tz_localize(None)\n",
    "df2['trending_date']=pd.to_datetime(df2['trending_date']).dt.tz_localize(None)\n",
    "df3=df2"
   ]
  },
  {
   "cell_type": "code",
   "execution_count": 24,
   "metadata": {},
   "outputs": [
    {
     "data": {
      "text/plain": [
       "publishedAt      datetime64[ns]\n",
       "channelId                object\n",
       "categoryId                int64\n",
       "trending_date    datetime64[ns]\n",
       "view_count                int64\n",
       "likes                     int64\n",
       "dislikes                  int64\n",
       "comment_count             int64\n",
       "dtype: object"
      ]
     },
     "execution_count": 24,
     "metadata": {},
     "output_type": "execute_result"
    }
   ],
   "source": [
    "df1.dtypes"
   ]
  },
  {
   "cell_type": "code",
   "execution_count": 25,
   "metadata": {},
   "outputs": [
    {
     "data": {
      "text/html": [
       "<div>\n",
       "<style scoped>\n",
       "    .dataframe tbody tr th:only-of-type {\n",
       "        vertical-align: middle;\n",
       "    }\n",
       "\n",
       "    .dataframe tbody tr th {\n",
       "        vertical-align: top;\n",
       "    }\n",
       "\n",
       "    .dataframe thead th {\n",
       "        text-align: right;\n",
       "    }\n",
       "</style>\n",
       "<table border=\"1\" class=\"dataframe\">\n",
       "  <thead>\n",
       "    <tr style=\"text-align: right;\">\n",
       "      <th></th>\n",
       "      <th>publishedAt</th>\n",
       "      <th>channelId</th>\n",
       "      <th>categoryId</th>\n",
       "      <th>trending_date</th>\n",
       "      <th>view_count</th>\n",
       "      <th>likes</th>\n",
       "      <th>dislikes</th>\n",
       "      <th>comment_count</th>\n",
       "    </tr>\n",
       "  </thead>\n",
       "  <tbody>\n",
       "    <tr>\n",
       "      <th>0</th>\n",
       "      <td>2020-08-11 19:20:14</td>\n",
       "      <td>UCvtRTOMP2TqYqu51xNrqAzg</td>\n",
       "      <td>22</td>\n",
       "      <td>2020-08-12</td>\n",
       "      <td>1514614</td>\n",
       "      <td>156908</td>\n",
       "      <td>5855</td>\n",
       "      <td>35313</td>\n",
       "    </tr>\n",
       "    <tr>\n",
       "      <th>1</th>\n",
       "      <td>2020-08-11 17:00:10</td>\n",
       "      <td>UC0ZV6M2THA81QT9hrVWJG3A</td>\n",
       "      <td>20</td>\n",
       "      <td>2020-08-12</td>\n",
       "      <td>2381688</td>\n",
       "      <td>146739</td>\n",
       "      <td>2794</td>\n",
       "      <td>16549</td>\n",
       "    </tr>\n",
       "    <tr>\n",
       "      <th>2</th>\n",
       "      <td>2020-08-11 16:34:06</td>\n",
       "      <td>UCYzPXprvl5Y-Sf0g4vX-m6g</td>\n",
       "      <td>24</td>\n",
       "      <td>2020-08-12</td>\n",
       "      <td>2038853</td>\n",
       "      <td>353787</td>\n",
       "      <td>2628</td>\n",
       "      <td>40221</td>\n",
       "    </tr>\n",
       "    <tr>\n",
       "      <th>3</th>\n",
       "      <td>2020-08-11 16:38:55</td>\n",
       "      <td>UCbg_UMjlHJg_19SZckaKajg</td>\n",
       "      <td>10</td>\n",
       "      <td>2020-08-12</td>\n",
       "      <td>496771</td>\n",
       "      <td>23251</td>\n",
       "      <td>1856</td>\n",
       "      <td>7647</td>\n",
       "    </tr>\n",
       "    <tr>\n",
       "      <th>4</th>\n",
       "      <td>2020-08-11 15:10:05</td>\n",
       "      <td>UCDVPcEbVLQgLZX0Rt6jo34A</td>\n",
       "      <td>26</td>\n",
       "      <td>2020-08-12</td>\n",
       "      <td>1123889</td>\n",
       "      <td>45802</td>\n",
       "      <td>964</td>\n",
       "      <td>2196</td>\n",
       "    </tr>\n",
       "  </tbody>\n",
       "</table>\n",
       "</div>"
      ],
      "text/plain": [
       "          publishedAt                 channelId  categoryId trending_date  \\\n",
       "0 2020-08-11 19:20:14  UCvtRTOMP2TqYqu51xNrqAzg          22    2020-08-12   \n",
       "1 2020-08-11 17:00:10  UC0ZV6M2THA81QT9hrVWJG3A          20    2020-08-12   \n",
       "2 2020-08-11 16:34:06  UCYzPXprvl5Y-Sf0g4vX-m6g          24    2020-08-12   \n",
       "3 2020-08-11 16:38:55  UCbg_UMjlHJg_19SZckaKajg          10    2020-08-12   \n",
       "4 2020-08-11 15:10:05  UCDVPcEbVLQgLZX0Rt6jo34A          26    2020-08-12   \n",
       "\n",
       "   view_count   likes  dislikes  comment_count  \n",
       "0     1514614  156908      5855          35313  \n",
       "1     2381688  146739      2794          16549  \n",
       "2     2038853  353787      2628          40221  \n",
       "3      496771   23251      1856           7647  \n",
       "4     1123889   45802       964           2196  "
      ]
     },
     "execution_count": 25,
     "metadata": {},
     "output_type": "execute_result"
    }
   ],
   "source": [
    "df1.head()"
   ]
  },
  {
   "cell_type": "code",
   "execution_count": 26,
   "metadata": {
    "scrolled": true
   },
   "outputs": [],
   "source": [
    "df1.sort_values(by=['publishedAt'], inplace=True)\n",
    "df3.sort_values(by=['publishedAt'], inplace=True)"
   ]
  },
  {
   "cell_type": "code",
   "execution_count": 27,
   "metadata": {},
   "outputs": [
    {
     "data": {
      "text/html": [
       "<div>\n",
       "<style scoped>\n",
       "    .dataframe tbody tr th:only-of-type {\n",
       "        vertical-align: middle;\n",
       "    }\n",
       "\n",
       "    .dataframe tbody tr th {\n",
       "        vertical-align: top;\n",
       "    }\n",
       "\n",
       "    .dataframe thead th {\n",
       "        text-align: right;\n",
       "    }\n",
       "</style>\n",
       "<table border=\"1\" class=\"dataframe\">\n",
       "  <thead>\n",
       "    <tr style=\"text-align: right;\">\n",
       "      <th></th>\n",
       "      <th>publishedAt</th>\n",
       "      <th>channelId</th>\n",
       "      <th>categoryId</th>\n",
       "      <th>trending_date</th>\n",
       "      <th>view_count</th>\n",
       "      <th>likes</th>\n",
       "      <th>dislikes</th>\n",
       "      <th>comment_count</th>\n",
       "    </tr>\n",
       "  </thead>\n",
       "  <tbody>\n",
       "    <tr>\n",
       "      <th>536</th>\n",
       "      <td>2020-08-03 21:51:14</td>\n",
       "      <td>UCa0LID3WQdj-bd5KiI-34vw</td>\n",
       "      <td>27</td>\n",
       "      <td>2020-08-14</td>\n",
       "      <td>2376265</td>\n",
       "      <td>100124</td>\n",
       "      <td>1834</td>\n",
       "      <td>1592</td>\n",
       "    </tr>\n",
       "    <tr>\n",
       "      <th>757</th>\n",
       "      <td>2020-08-03 21:51:14</td>\n",
       "      <td>UCa0LID3WQdj-bd5KiI-34vw</td>\n",
       "      <td>27</td>\n",
       "      <td>2020-08-15</td>\n",
       "      <td>3146234</td>\n",
       "      <td>123862</td>\n",
       "      <td>2410</td>\n",
       "      <td>1865</td>\n",
       "    </tr>\n",
       "    <tr>\n",
       "      <th>94</th>\n",
       "      <td>2020-08-03 21:51:14</td>\n",
       "      <td>UCa0LID3WQdj-bd5KiI-34vw</td>\n",
       "      <td>27</td>\n",
       "      <td>2020-08-12</td>\n",
       "      <td>1048314</td>\n",
       "      <td>51361</td>\n",
       "      <td>891</td>\n",
       "      <td>965</td>\n",
       "    </tr>\n",
       "    <tr>\n",
       "      <th>313</th>\n",
       "      <td>2020-08-03 21:51:14</td>\n",
       "      <td>UCa0LID3WQdj-bd5KiI-34vw</td>\n",
       "      <td>27</td>\n",
       "      <td>2020-08-13</td>\n",
       "      <td>1686474</td>\n",
       "      <td>76387</td>\n",
       "      <td>1384</td>\n",
       "      <td>1313</td>\n",
       "    </tr>\n",
       "    <tr>\n",
       "      <th>183</th>\n",
       "      <td>2020-08-05 19:00:01</td>\n",
       "      <td>UCIcgBZ9hEJxHv6r_jDYOMqg</td>\n",
       "      <td>23</td>\n",
       "      <td>2020-08-12</td>\n",
       "      <td>4971181</td>\n",
       "      <td>360168</td>\n",
       "      <td>7850</td>\n",
       "      <td>48742</td>\n",
       "    </tr>\n",
       "    <tr>\n",
       "      <th>198</th>\n",
       "      <td>2020-08-05 19:42:52</td>\n",
       "      <td>UCWTQG2aMDYKGDqYEGqJb1FA</td>\n",
       "      <td>24</td>\n",
       "      <td>2020-08-12</td>\n",
       "      <td>1123529</td>\n",
       "      <td>39289</td>\n",
       "      <td>2056</td>\n",
       "      <td>3626</td>\n",
       "    </tr>\n",
       "    <tr>\n",
       "      <th>180</th>\n",
       "      <td>2020-08-05 21:01:33</td>\n",
       "      <td>UCoMdktPbSTixAyNGwb-UYkQ</td>\n",
       "      <td>25</td>\n",
       "      <td>2020-08-12</td>\n",
       "      <td>8496552</td>\n",
       "      <td>74508</td>\n",
       "      <td>3034</td>\n",
       "      <td>11855</td>\n",
       "    </tr>\n",
       "    <tr>\n",
       "      <th>197</th>\n",
       "      <td>2020-08-05 21:07:19</td>\n",
       "      <td>UC6QWhGQqf0YDYdRb0n6ojWw</td>\n",
       "      <td>24</td>\n",
       "      <td>2020-08-12</td>\n",
       "      <td>1120675</td>\n",
       "      <td>41671</td>\n",
       "      <td>888</td>\n",
       "      <td>5282</td>\n",
       "    </tr>\n",
       "    <tr>\n",
       "      <th>193</th>\n",
       "      <td>2020-08-06 00:00:01</td>\n",
       "      <td>UCYUbNjkuE4lsr2v1Id2O1oA</td>\n",
       "      <td>25</td>\n",
       "      <td>2020-08-12</td>\n",
       "      <td>1793900</td>\n",
       "      <td>14805</td>\n",
       "      <td>1082</td>\n",
       "      <td>4037</td>\n",
       "    </tr>\n",
       "    <tr>\n",
       "      <th>195</th>\n",
       "      <td>2020-08-06 00:54:06</td>\n",
       "      <td>UC5T7D-Dh1eDGtsAFCuwv_Sw</td>\n",
       "      <td>25</td>\n",
       "      <td>2020-08-12</td>\n",
       "      <td>1256376</td>\n",
       "      <td>7475</td>\n",
       "      <td>414</td>\n",
       "      <td>1835</td>\n",
       "    </tr>\n",
       "  </tbody>\n",
       "</table>\n",
       "</div>"
      ],
      "text/plain": [
       "            publishedAt                 channelId  categoryId trending_date  \\\n",
       "536 2020-08-03 21:51:14  UCa0LID3WQdj-bd5KiI-34vw          27    2020-08-14   \n",
       "757 2020-08-03 21:51:14  UCa0LID3WQdj-bd5KiI-34vw          27    2020-08-15   \n",
       "94  2020-08-03 21:51:14  UCa0LID3WQdj-bd5KiI-34vw          27    2020-08-12   \n",
       "313 2020-08-03 21:51:14  UCa0LID3WQdj-bd5KiI-34vw          27    2020-08-13   \n",
       "183 2020-08-05 19:00:01  UCIcgBZ9hEJxHv6r_jDYOMqg          23    2020-08-12   \n",
       "198 2020-08-05 19:42:52  UCWTQG2aMDYKGDqYEGqJb1FA          24    2020-08-12   \n",
       "180 2020-08-05 21:01:33  UCoMdktPbSTixAyNGwb-UYkQ          25    2020-08-12   \n",
       "197 2020-08-05 21:07:19  UC6QWhGQqf0YDYdRb0n6ojWw          24    2020-08-12   \n",
       "193 2020-08-06 00:00:01  UCYUbNjkuE4lsr2v1Id2O1oA          25    2020-08-12   \n",
       "195 2020-08-06 00:54:06  UC5T7D-Dh1eDGtsAFCuwv_Sw          25    2020-08-12   \n",
       "\n",
       "     view_count   likes  dislikes  comment_count  \n",
       "536     2376265  100124      1834           1592  \n",
       "757     3146234  123862      2410           1865  \n",
       "94      1048314   51361       891            965  \n",
       "313     1686474   76387      1384           1313  \n",
       "183     4971181  360168      7850          48742  \n",
       "198     1123529   39289      2056           3626  \n",
       "180     8496552   74508      3034          11855  \n",
       "197     1120675   41671       888           5282  \n",
       "193     1793900   14805      1082           4037  \n",
       "195     1256376    7475       414           1835  "
      ]
     },
     "execution_count": 27,
     "metadata": {},
     "output_type": "execute_result"
    }
   ],
   "source": [
    "df1.head(10)"
   ]
  },
  {
   "cell_type": "code",
   "execution_count": 28,
   "metadata": {},
   "outputs": [],
   "source": [
    "df1['publishedAt1']=pd.to_datetime(df1['publishedAt'])\n",
    "df1['publishedAt1']=df1['publishedAt1'].map(dt.datetime.toordinal)\n",
    "df1.drop('publishedAt', axis=1, inplace=True)\n",
    "\n",
    "df3['publishedAt1']=pd.to_datetime(df3['publishedAt'])\n",
    "df3['publishedAt1']=df3['publishedAt1'].map(dt.datetime.toordinal)\n",
    "df3.drop('publishedAt', axis=1, inplace=True)"
   ]
  },
  {
   "cell_type": "code",
   "execution_count": 29,
   "metadata": {
    "scrolled": true
   },
   "outputs": [
    {
     "data": {
      "text/html": [
       "<div>\n",
       "<style scoped>\n",
       "    .dataframe tbody tr th:only-of-type {\n",
       "        vertical-align: middle;\n",
       "    }\n",
       "\n",
       "    .dataframe tbody tr th {\n",
       "        vertical-align: top;\n",
       "    }\n",
       "\n",
       "    .dataframe thead th {\n",
       "        text-align: right;\n",
       "    }\n",
       "</style>\n",
       "<table border=\"1\" class=\"dataframe\">\n",
       "  <thead>\n",
       "    <tr style=\"text-align: right;\">\n",
       "      <th></th>\n",
       "      <th>channelId</th>\n",
       "      <th>categoryId</th>\n",
       "      <th>trending_date</th>\n",
       "      <th>view_count</th>\n",
       "      <th>likes</th>\n",
       "      <th>dislikes</th>\n",
       "      <th>comment_count</th>\n",
       "      <th>publishedAt1</th>\n",
       "    </tr>\n",
       "  </thead>\n",
       "  <tbody>\n",
       "    <tr>\n",
       "      <th>536</th>\n",
       "      <td>UCa0LID3WQdj-bd5KiI-34vw</td>\n",
       "      <td>27</td>\n",
       "      <td>2020-08-14</td>\n",
       "      <td>2376265</td>\n",
       "      <td>100124</td>\n",
       "      <td>1834</td>\n",
       "      <td>1592</td>\n",
       "      <td>737640</td>\n",
       "    </tr>\n",
       "    <tr>\n",
       "      <th>757</th>\n",
       "      <td>UCa0LID3WQdj-bd5KiI-34vw</td>\n",
       "      <td>27</td>\n",
       "      <td>2020-08-15</td>\n",
       "      <td>3146234</td>\n",
       "      <td>123862</td>\n",
       "      <td>2410</td>\n",
       "      <td>1865</td>\n",
       "      <td>737640</td>\n",
       "    </tr>\n",
       "    <tr>\n",
       "      <th>94</th>\n",
       "      <td>UCa0LID3WQdj-bd5KiI-34vw</td>\n",
       "      <td>27</td>\n",
       "      <td>2020-08-12</td>\n",
       "      <td>1048314</td>\n",
       "      <td>51361</td>\n",
       "      <td>891</td>\n",
       "      <td>965</td>\n",
       "      <td>737640</td>\n",
       "    </tr>\n",
       "    <tr>\n",
       "      <th>313</th>\n",
       "      <td>UCa0LID3WQdj-bd5KiI-34vw</td>\n",
       "      <td>27</td>\n",
       "      <td>2020-08-13</td>\n",
       "      <td>1686474</td>\n",
       "      <td>76387</td>\n",
       "      <td>1384</td>\n",
       "      <td>1313</td>\n",
       "      <td>737640</td>\n",
       "    </tr>\n",
       "    <tr>\n",
       "      <th>183</th>\n",
       "      <td>UCIcgBZ9hEJxHv6r_jDYOMqg</td>\n",
       "      <td>23</td>\n",
       "      <td>2020-08-12</td>\n",
       "      <td>4971181</td>\n",
       "      <td>360168</td>\n",
       "      <td>7850</td>\n",
       "      <td>48742</td>\n",
       "      <td>737642</td>\n",
       "    </tr>\n",
       "    <tr>\n",
       "      <th>198</th>\n",
       "      <td>UCWTQG2aMDYKGDqYEGqJb1FA</td>\n",
       "      <td>24</td>\n",
       "      <td>2020-08-12</td>\n",
       "      <td>1123529</td>\n",
       "      <td>39289</td>\n",
       "      <td>2056</td>\n",
       "      <td>3626</td>\n",
       "      <td>737642</td>\n",
       "    </tr>\n",
       "    <tr>\n",
       "      <th>180</th>\n",
       "      <td>UCoMdktPbSTixAyNGwb-UYkQ</td>\n",
       "      <td>25</td>\n",
       "      <td>2020-08-12</td>\n",
       "      <td>8496552</td>\n",
       "      <td>74508</td>\n",
       "      <td>3034</td>\n",
       "      <td>11855</td>\n",
       "      <td>737642</td>\n",
       "    </tr>\n",
       "    <tr>\n",
       "      <th>197</th>\n",
       "      <td>UC6QWhGQqf0YDYdRb0n6ojWw</td>\n",
       "      <td>24</td>\n",
       "      <td>2020-08-12</td>\n",
       "      <td>1120675</td>\n",
       "      <td>41671</td>\n",
       "      <td>888</td>\n",
       "      <td>5282</td>\n",
       "      <td>737642</td>\n",
       "    </tr>\n",
       "    <tr>\n",
       "      <th>193</th>\n",
       "      <td>UCYUbNjkuE4lsr2v1Id2O1oA</td>\n",
       "      <td>25</td>\n",
       "      <td>2020-08-12</td>\n",
       "      <td>1793900</td>\n",
       "      <td>14805</td>\n",
       "      <td>1082</td>\n",
       "      <td>4037</td>\n",
       "      <td>737643</td>\n",
       "    </tr>\n",
       "    <tr>\n",
       "      <th>195</th>\n",
       "      <td>UC5T7D-Dh1eDGtsAFCuwv_Sw</td>\n",
       "      <td>25</td>\n",
       "      <td>2020-08-12</td>\n",
       "      <td>1256376</td>\n",
       "      <td>7475</td>\n",
       "      <td>414</td>\n",
       "      <td>1835</td>\n",
       "      <td>737643</td>\n",
       "    </tr>\n",
       "  </tbody>\n",
       "</table>\n",
       "</div>"
      ],
      "text/plain": [
       "                    channelId  categoryId trending_date  view_count   likes  \\\n",
       "536  UCa0LID3WQdj-bd5KiI-34vw          27    2020-08-14     2376265  100124   \n",
       "757  UCa0LID3WQdj-bd5KiI-34vw          27    2020-08-15     3146234  123862   \n",
       "94   UCa0LID3WQdj-bd5KiI-34vw          27    2020-08-12     1048314   51361   \n",
       "313  UCa0LID3WQdj-bd5KiI-34vw          27    2020-08-13     1686474   76387   \n",
       "183  UCIcgBZ9hEJxHv6r_jDYOMqg          23    2020-08-12     4971181  360168   \n",
       "198  UCWTQG2aMDYKGDqYEGqJb1FA          24    2020-08-12     1123529   39289   \n",
       "180  UCoMdktPbSTixAyNGwb-UYkQ          25    2020-08-12     8496552   74508   \n",
       "197  UC6QWhGQqf0YDYdRb0n6ojWw          24    2020-08-12     1120675   41671   \n",
       "193  UCYUbNjkuE4lsr2v1Id2O1oA          25    2020-08-12     1793900   14805   \n",
       "195  UC5T7D-Dh1eDGtsAFCuwv_Sw          25    2020-08-12     1256376    7475   \n",
       "\n",
       "     dislikes  comment_count  publishedAt1  \n",
       "536      1834           1592        737640  \n",
       "757      2410           1865        737640  \n",
       "94        891            965        737640  \n",
       "313      1384           1313        737640  \n",
       "183      7850          48742        737642  \n",
       "198      2056           3626        737642  \n",
       "180      3034          11855        737642  \n",
       "197       888           5282        737642  \n",
       "193      1082           4037        737643  \n",
       "195       414           1835        737643  "
      ]
     },
     "execution_count": 29,
     "metadata": {},
     "output_type": "execute_result"
    }
   ],
   "source": [
    "df1.head(10)"
   ]
  },
  {
   "cell_type": "markdown",
   "metadata": {},
   "source": [
    "In order to train the regression models on the Time Series data, I had to convert the dates to ordinal numbers after putting them in chronological order. "
   ]
  },
  {
   "cell_type": "code",
   "execution_count": 30,
   "metadata": {},
   "outputs": [],
   "source": [
    "df1['trending_date1']=pd.to_datetime(df1['trending_date'])\n",
    "df1['trending_date1']=df1['trending_date1'].map(dt.datetime.toordinal)\n",
    "df1.drop('trending_date', axis=1, inplace=True)\n",
    "\n",
    "df3['trending_date1']=pd.to_datetime(df3['trending_date'])\n",
    "df3['trending_date1']=df3['trending_date1'].map(dt.datetime.toordinal)\n",
    "df3.drop('trending_date', axis=1, inplace=True)"
   ]
  },
  {
   "cell_type": "code",
   "execution_count": 31,
   "metadata": {},
   "outputs": [
    {
     "data": {
      "text/html": [
       "<div>\n",
       "<style scoped>\n",
       "    .dataframe tbody tr th:only-of-type {\n",
       "        vertical-align: middle;\n",
       "    }\n",
       "\n",
       "    .dataframe tbody tr th {\n",
       "        vertical-align: top;\n",
       "    }\n",
       "\n",
       "    .dataframe thead th {\n",
       "        text-align: right;\n",
       "    }\n",
       "</style>\n",
       "<table border=\"1\" class=\"dataframe\">\n",
       "  <thead>\n",
       "    <tr style=\"text-align: right;\">\n",
       "      <th></th>\n",
       "      <th>channelId</th>\n",
       "      <th>categoryId</th>\n",
       "      <th>view_count</th>\n",
       "      <th>likes</th>\n",
       "      <th>dislikes</th>\n",
       "      <th>comment_count</th>\n",
       "      <th>publishedAt1</th>\n",
       "      <th>trending_date1</th>\n",
       "    </tr>\n",
       "  </thead>\n",
       "  <tbody>\n",
       "    <tr>\n",
       "      <th>count</th>\n",
       "      <td>14198</td>\n",
       "      <td>14198.000000</td>\n",
       "      <td>1.419800e+04</td>\n",
       "      <td>1.419800e+04</td>\n",
       "      <td>14198.00000</td>\n",
       "      <td>1.419800e+04</td>\n",
       "      <td>14198.000000</td>\n",
       "      <td>14198.000000</td>\n",
       "    </tr>\n",
       "    <tr>\n",
       "      <th>unique</th>\n",
       "      <td>1526</td>\n",
       "      <td>NaN</td>\n",
       "      <td>NaN</td>\n",
       "      <td>NaN</td>\n",
       "      <td>NaN</td>\n",
       "      <td>NaN</td>\n",
       "      <td>NaN</td>\n",
       "      <td>NaN</td>\n",
       "    </tr>\n",
       "    <tr>\n",
       "      <th>top</th>\n",
       "      <td>UCWJ2lWNubArHWmf3FIHbfcQ</td>\n",
       "      <td>NaN</td>\n",
       "      <td>NaN</td>\n",
       "      <td>NaN</td>\n",
       "      <td>NaN</td>\n",
       "      <td>NaN</td>\n",
       "      <td>NaN</td>\n",
       "      <td>NaN</td>\n",
       "    </tr>\n",
       "    <tr>\n",
       "      <th>freq</th>\n",
       "      <td>155</td>\n",
       "      <td>NaN</td>\n",
       "      <td>NaN</td>\n",
       "      <td>NaN</td>\n",
       "      <td>NaN</td>\n",
       "      <td>NaN</td>\n",
       "      <td>NaN</td>\n",
       "      <td>NaN</td>\n",
       "    </tr>\n",
       "    <tr>\n",
       "      <th>mean</th>\n",
       "      <td>NaN</td>\n",
       "      <td>18.427032</td>\n",
       "      <td>2.687649e+06</td>\n",
       "      <td>1.643876e+05</td>\n",
       "      <td>4369.43323</td>\n",
       "      <td>1.956895e+04</td>\n",
       "      <td>737680.451120</td>\n",
       "      <td>737683.996478</td>\n",
       "    </tr>\n",
       "    <tr>\n",
       "      <th>std</th>\n",
       "      <td>NaN</td>\n",
       "      <td>7.195887</td>\n",
       "      <td>7.935679e+06</td>\n",
       "      <td>5.706336e+05</td>\n",
       "      <td>26731.62303</td>\n",
       "      <td>1.624935e+05</td>\n",
       "      <td>20.556143</td>\n",
       "      <td>20.493915</td>\n",
       "    </tr>\n",
       "    <tr>\n",
       "      <th>min</th>\n",
       "      <td>NaN</td>\n",
       "      <td>1.000000</td>\n",
       "      <td>3.851000e+04</td>\n",
       "      <td>0.000000e+00</td>\n",
       "      <td>0.00000</td>\n",
       "      <td>0.000000e+00</td>\n",
       "      <td>737640.000000</td>\n",
       "      <td>737649.000000</td>\n",
       "    </tr>\n",
       "    <tr>\n",
       "      <th>25%</th>\n",
       "      <td>NaN</td>\n",
       "      <td>10.000000</td>\n",
       "      <td>4.439632e+05</td>\n",
       "      <td>1.800950e+04</td>\n",
       "      <td>349.00000</td>\n",
       "      <td>1.831250e+03</td>\n",
       "      <td>737663.000000</td>\n",
       "      <td>737666.000000</td>\n",
       "    </tr>\n",
       "    <tr>\n",
       "      <th>50%</th>\n",
       "      <td>NaN</td>\n",
       "      <td>20.000000</td>\n",
       "      <td>9.485350e+05</td>\n",
       "      <td>4.536300e+04</td>\n",
       "      <td>844.00000</td>\n",
       "      <td>4.124000e+03</td>\n",
       "      <td>737681.000000</td>\n",
       "      <td>737684.000000</td>\n",
       "    </tr>\n",
       "    <tr>\n",
       "      <th>75%</th>\n",
       "      <td>NaN</td>\n",
       "      <td>24.000000</td>\n",
       "      <td>2.199380e+06</td>\n",
       "      <td>1.270530e+05</td>\n",
       "      <td>2557.00000</td>\n",
       "      <td>1.026050e+04</td>\n",
       "      <td>737698.000000</td>\n",
       "      <td>737702.000000</td>\n",
       "    </tr>\n",
       "    <tr>\n",
       "      <th>max</th>\n",
       "      <td>NaN</td>\n",
       "      <td>29.000000</td>\n",
       "      <td>2.326492e+08</td>\n",
       "      <td>1.573553e+07</td>\n",
       "      <td>879354.00000</td>\n",
       "      <td>6.065230e+06</td>\n",
       "      <td>737719.000000</td>\n",
       "      <td>737719.000000</td>\n",
       "    </tr>\n",
       "  </tbody>\n",
       "</table>\n",
       "</div>"
      ],
      "text/plain": [
       "                       channelId    categoryId    view_count         likes  \\\n",
       "count                      14198  14198.000000  1.419800e+04  1.419800e+04   \n",
       "unique                      1526           NaN           NaN           NaN   \n",
       "top     UCWJ2lWNubArHWmf3FIHbfcQ           NaN           NaN           NaN   \n",
       "freq                         155           NaN           NaN           NaN   \n",
       "mean                         NaN     18.427032  2.687649e+06  1.643876e+05   \n",
       "std                          NaN      7.195887  7.935679e+06  5.706336e+05   \n",
       "min                          NaN      1.000000  3.851000e+04  0.000000e+00   \n",
       "25%                          NaN     10.000000  4.439632e+05  1.800950e+04   \n",
       "50%                          NaN     20.000000  9.485350e+05  4.536300e+04   \n",
       "75%                          NaN     24.000000  2.199380e+06  1.270530e+05   \n",
       "max                          NaN     29.000000  2.326492e+08  1.573553e+07   \n",
       "\n",
       "            dislikes  comment_count   publishedAt1  trending_date1  \n",
       "count    14198.00000   1.419800e+04   14198.000000    14198.000000  \n",
       "unique           NaN            NaN            NaN             NaN  \n",
       "top              NaN            NaN            NaN             NaN  \n",
       "freq             NaN            NaN            NaN             NaN  \n",
       "mean      4369.43323   1.956895e+04  737680.451120   737683.996478  \n",
       "std      26731.62303   1.624935e+05      20.556143       20.493915  \n",
       "min          0.00000   0.000000e+00  737640.000000   737649.000000  \n",
       "25%        349.00000   1.831250e+03  737663.000000   737666.000000  \n",
       "50%        844.00000   4.124000e+03  737681.000000   737684.000000  \n",
       "75%       2557.00000   1.026050e+04  737698.000000   737702.000000  \n",
       "max     879354.00000   6.065230e+06  737719.000000   737719.000000  "
      ]
     },
     "execution_count": 31,
     "metadata": {},
     "output_type": "execute_result"
    }
   ],
   "source": [
    "df1.describe(include='all')"
   ]
  },
  {
   "cell_type": "code",
   "execution_count": 32,
   "metadata": {},
   "outputs": [],
   "source": [
    "df1['channelId']=df1['channelId'].astype('category')\n",
    "df1['channelId']=df1['channelId'].cat.codes\n",
    "\n",
    "df3['channelId']=df3['channelId'].astype('category')\n",
    "df3['channelId']=df3['channelId'].cat.codes"
   ]
  },
  {
   "cell_type": "code",
   "execution_count": 33,
   "metadata": {},
   "outputs": [
    {
     "data": {
      "text/html": [
       "<div>\n",
       "<style scoped>\n",
       "    .dataframe tbody tr th:only-of-type {\n",
       "        vertical-align: middle;\n",
       "    }\n",
       "\n",
       "    .dataframe tbody tr th {\n",
       "        vertical-align: top;\n",
       "    }\n",
       "\n",
       "    .dataframe thead th {\n",
       "        text-align: right;\n",
       "    }\n",
       "</style>\n",
       "<table border=\"1\" class=\"dataframe\">\n",
       "  <thead>\n",
       "    <tr style=\"text-align: right;\">\n",
       "      <th></th>\n",
       "      <th>channelId</th>\n",
       "      <th>categoryId</th>\n",
       "      <th>view_count</th>\n",
       "      <th>likes</th>\n",
       "      <th>dislikes</th>\n",
       "      <th>comment_count</th>\n",
       "      <th>publishedAt1</th>\n",
       "      <th>trending_date1</th>\n",
       "    </tr>\n",
       "  </thead>\n",
       "  <tbody>\n",
       "    <tr>\n",
       "      <th>536</th>\n",
       "      <td>912</td>\n",
       "      <td>27</td>\n",
       "      <td>2376265</td>\n",
       "      <td>100124</td>\n",
       "      <td>1834</td>\n",
       "      <td>1592</td>\n",
       "      <td>737640</td>\n",
       "      <td>737651</td>\n",
       "    </tr>\n",
       "    <tr>\n",
       "      <th>757</th>\n",
       "      <td>912</td>\n",
       "      <td>27</td>\n",
       "      <td>3146234</td>\n",
       "      <td>123862</td>\n",
       "      <td>2410</td>\n",
       "      <td>1865</td>\n",
       "      <td>737640</td>\n",
       "      <td>737652</td>\n",
       "    </tr>\n",
       "    <tr>\n",
       "      <th>94</th>\n",
       "      <td>912</td>\n",
       "      <td>27</td>\n",
       "      <td>1048314</td>\n",
       "      <td>51361</td>\n",
       "      <td>891</td>\n",
       "      <td>965</td>\n",
       "      <td>737640</td>\n",
       "      <td>737649</td>\n",
       "    </tr>\n",
       "    <tr>\n",
       "      <th>313</th>\n",
       "      <td>912</td>\n",
       "      <td>27</td>\n",
       "      <td>1686474</td>\n",
       "      <td>76387</td>\n",
       "      <td>1384</td>\n",
       "      <td>1313</td>\n",
       "      <td>737640</td>\n",
       "      <td>737650</td>\n",
       "    </tr>\n",
       "    <tr>\n",
       "      <th>183</th>\n",
       "      <td>463</td>\n",
       "      <td>23</td>\n",
       "      <td>4971181</td>\n",
       "      <td>360168</td>\n",
       "      <td>7850</td>\n",
       "      <td>48742</td>\n",
       "      <td>737642</td>\n",
       "      <td>737649</td>\n",
       "    </tr>\n",
       "  </tbody>\n",
       "</table>\n",
       "</div>"
      ],
      "text/plain": [
       "     channelId  categoryId  view_count   likes  dislikes  comment_count  \\\n",
       "536        912          27     2376265  100124      1834           1592   \n",
       "757        912          27     3146234  123862      2410           1865   \n",
       "94         912          27     1048314   51361       891            965   \n",
       "313        912          27     1686474   76387      1384           1313   \n",
       "183        463          23     4971181  360168      7850          48742   \n",
       "\n",
       "     publishedAt1  trending_date1  \n",
       "536        737640          737651  \n",
       "757        737640          737652  \n",
       "94         737640          737649  \n",
       "313        737640          737650  \n",
       "183        737642          737649  "
      ]
     },
     "execution_count": 33,
     "metadata": {},
     "output_type": "execute_result"
    }
   ],
   "source": [
    "df1.head()"
   ]
  },
  {
   "cell_type": "code",
   "execution_count": 34,
   "metadata": {},
   "outputs": [
    {
     "data": {
      "text/plain": [
       "channelId         int16\n",
       "categoryId        int64\n",
       "view_count        int64\n",
       "likes             int64\n",
       "dislikes          int64\n",
       "comment_count     int64\n",
       "publishedAt1      int64\n",
       "trending_date1    int64\n",
       "dtype: object"
      ]
     },
     "execution_count": 34,
     "metadata": {},
     "output_type": "execute_result"
    }
   ],
   "source": [
    "df1.dtypes"
   ]
  },
  {
   "cell_type": "code",
   "execution_count": 36,
   "metadata": {},
   "outputs": [],
   "source": [
    "X=df1.drop(['categoryId'], axis=1)\n",
    "y=df1['categoryId']\n",
    "\n",
    "X3=df3.drop(['categoryId'], axis=1)\n",
    "y3=df3['categoryId']\n",
    "\n",
    "X_train=X\n",
    "X_test=X3\n",
    "y_train=y\n",
    "y_test=y3"
   ]
  },
  {
   "cell_type": "markdown",
   "metadata": {},
   "source": [
    "The following code was used to optimize the hyperparameters for the best regression models. "
   ]
  },
  {
   "cell_type": "code",
   "execution_count": 37,
   "metadata": {},
   "outputs": [],
   "source": [
    "n_estimators=[int(x) for x in np.linspace(5,100, num=50)]\n",
    "max_depth=[int(x) for x in np.linspace(5, 10, num=2)]\n",
    "max_depth.append(None)\n",
    "min_samples_leaf=[1,2,4]\n",
    "min_samples_split=[2,5,10]\n",
    "min_weight_fraction_leaf=[float(x) for x in np.linspace(0,0.5,num=10)]\n",
    "max_features=['auto','sqrt','log2']\n",
    "min_impurity_decrease=[float(x) for x in np.linspace(0,1,num=10)]"
   ]
  },
  {
   "cell_type": "code",
   "execution_count": 38,
   "metadata": {},
   "outputs": [],
   "source": [
    "random_grid={'n_estimators': n_estimators,\n",
    "             'max_depth': max_depth,\n",
    "             'min_samples_leaf': min_samples_leaf,\n",
    "             'min_samples_split': min_samples_split,\n",
    "             'min_weight_fraction_leaf': min_weight_fraction_leaf,\n",
    "             'max_features': max_features,\n",
    "             'min_impurity_decrease': min_impurity_decrease}"
   ]
  },
  {
   "cell_type": "markdown",
   "metadata": {},
   "source": [
    "3-fold cross-validation was used."
   ]
  },
  {
   "cell_type": "code",
   "execution_count": 39,
   "metadata": {
    "scrolled": true
   },
   "outputs": [
    {
     "name": "stdout",
     "output_type": "stream",
     "text": [
      "Fitting 3 folds for each of 100 candidates, totalling 300 fits\n"
     ]
    },
    {
     "name": "stderr",
     "output_type": "stream",
     "text": [
      "[Parallel(n_jobs=-1)]: Using backend LokyBackend with 8 concurrent workers.\n",
      "[Parallel(n_jobs=-1)]: Done  34 tasks      | elapsed:    9.3s\n",
      "[Parallel(n_jobs=-1)]: Done 184 tasks      | elapsed:   24.1s\n",
      "[Parallel(n_jobs=-1)]: Done 300 out of 300 | elapsed:   33.6s finished\n"
     ]
    }
   ],
   "source": [
    "reg=RandomForestRegressor()\n",
    "reg_random=RandomizedSearchCV(estimator=reg, param_distributions=random_grid, n_iter=100, cv=3, verbose=1, random_state=42, n_jobs=-1, return_train_score=True)\n",
    "reg_random.fit(X_train, y_train);"
   ]
  },
  {
   "cell_type": "code",
   "execution_count": 40,
   "metadata": {},
   "outputs": [],
   "source": [
    "def evaluate(model, test_features, test_labels):\n",
    "    predictions=model.predict(test_features)\n",
    "    errors=abs(predictions-test_labels)\n",
    "    mape=100*np.mean(errors/test_labels)\n",
    "    accuracy=100-mape\n",
    "    print('Model Performance')\n",
    "    print('Average Error: {:0.4f} degrees.'.format(np.mean(errors)))\n",
    "    print('Accuracy = {:0.2f}%.'.format(accuracy))\n",
    "    \n",
    "    return accuracy\n"
   ]
  },
  {
   "cell_type": "code",
   "execution_count": 41,
   "metadata": {
    "scrolled": true
   },
   "outputs": [
    {
     "name": "stdout",
     "output_type": "stream",
     "text": [
      "Model Performance\n",
      "Average Error: 6.7668 degrees.\n",
      "Accuracy = 3.64%.\n",
      "3.6357294804125786\n"
     ]
    }
   ],
   "source": [
    "base_model=RandomForestRegressor(random_state=42)\n",
    "base_model.fit(X_train, y_train)\n",
    "base_accuracy=evaluate(base_model, X_test, y_test)\n",
    "print(base_accuracy)"
   ]
  },
  {
   "cell_type": "code",
   "execution_count": 42,
   "metadata": {
    "scrolled": true
   },
   "outputs": [
    {
     "name": "stdout",
     "output_type": "stream",
     "text": [
      "Model Performance\n",
      "Average Error: 6.4734 degrees.\n",
      "Accuracy = -6.04%.\n",
      "-6.043698666614006\n"
     ]
    }
   ],
   "source": [
    "best_random=reg_random.best_estimator_\n",
    "random_accuracy=evaluate(best_random, X_test, y_test)\n",
    "print(random_accuracy)"
   ]
  },
  {
   "cell_type": "markdown",
   "metadata": {},
   "source": [
    "These are the optimized hyperparameters that were used in the actual model. "
   ]
  },
  {
   "cell_type": "code",
   "execution_count": 43,
   "metadata": {},
   "outputs": [
    {
     "name": "stdout",
     "output_type": "stream",
     "text": [
      "Improvement of -266.23%.\n",
      "{'max_depth': 5,\n",
      " 'max_features': 'sqrt',\n",
      " 'min_impurity_decrease': 0.0,\n",
      " 'min_samples_leaf': 4,\n",
      " 'min_samples_split': 5,\n",
      " 'min_weight_fraction_leaf': 0.05555555555555555,\n",
      " 'n_estimators': 14}\n"
     ]
    }
   ],
   "source": [
    "print('Improvement of {:0.2f}%.'.format( 100*(random_accuracy-base_accuracy)/base_accuracy))\n",
    "pprint(reg_random.best_params_)"
   ]
  },
  {
   "cell_type": "code",
   "execution_count": 44,
   "metadata": {},
   "outputs": [
    {
     "data": {
      "text/plain": [
       "RandomForestRegressor(max_depth=5, min_impurity_decrease=0.5555555555555556,\n",
       "                      min_samples_leaf=2,\n",
       "                      min_weight_fraction_leaf=0.3333333333333333,\n",
       "                      n_estimators=5, random_state=42)"
      ]
     },
     "execution_count": 44,
     "metadata": {},
     "output_type": "execute_result"
    }
   ],
   "source": [
    "randFor=RandomForestRegressor(n_estimators=5,\n",
    "                              max_depth=5,\n",
    "                              max_features='auto',\n",
    "                              min_impurity_decrease=0.5555555555555556,\n",
    "                              min_samples_leaf=2,\n",
    "                              min_samples_split=2,\n",
    "                              min_weight_fraction_leaf=0.3333333333333333,\n",
    "                              random_state=42)\n",
    "randFor.fit(X_train, y_train)"
   ]
  },
  {
   "cell_type": "code",
   "execution_count": 45,
   "metadata": {
    "scrolled": true
   },
   "outputs": [
    {
     "name": "stdout",
     "output_type": "stream",
     "text": [
      "[18.64152803 18.64152803 18.64152803 ... 18.64152803 18.64152803\n",
      " 18.30435622]\n"
     ]
    }
   ],
   "source": [
    "y_pred=randFor.predict(X_test)\n",
    "print(y_pred)"
   ]
  },
  {
   "cell_type": "markdown",
   "metadata": {},
   "source": [
    "The following plot is the output of the Random Forest Regression model that predicted the trending category ID of youtube videos based on the channel Id, view count, likes, dislikes, comment count, published date, and trending date. Blue represents the training data, orange is the test data, and green is the predition of the model. Obviously, Random Forest is not the best model for this problem. "
   ]
  },
  {
   "cell_type": "code",
   "execution_count": 46,
   "metadata": {
    "scrolled": true
   },
   "outputs": [
    {
     "data": {
      "text/plain": [
       "(737640.0, 737730.0)"
      ]
     },
     "execution_count": 46,
     "metadata": {},
     "output_type": "execute_result"
    },
    {
     "data": {
      "image/png": "[encoded data removed]",
      "text/plain": [
       "<Figure size 432x288 with 1 Axes>"
      ]
     },
     "metadata": {
      "needs_background": "light"
     },
     "output_type": "display_data"
    }
   ],
   "source": [
    "fig, ax = plt.subplots()\n",
    "sns.regplot(x='publishedAt1', y=y_train, data=df);\n",
    "sns.regplot(x='publishedAt1', y=y_test, data=df2);\n",
    "sns.regplot(x='publishedAt1', y=y_pred, data=df2);\n",
    "plt.ylim(0,30)\n",
    "plt.xlim(737640, 737730)"
   ]
  },
  {
   "cell_type": "markdown",
   "metadata": {},
   "source": [
    "Next, I tried a Gradient Boosting Regression model. Hyperparameters were optimized similar to before. "
   ]
  },
  {
   "cell_type": "code",
   "execution_count": 47,
   "metadata": {},
   "outputs": [],
   "source": [
    "n_estimators=[int(x) for x in np.linspace(5,100, num=50)]\n",
    "learning_rate=[float(x) for x in np.linspace(0,0.5,num=10)]\n",
    "max_depth=[int(x) for x in np.linspace(5, 10, num=2)]\n",
    "max_depth.append(None)\n",
    "min_samples_leaf=[1,2,4]\n",
    "min_samples_split=[2,5,10]\n",
    "max_features=['auto','sqrt','log2']\n",
    "loss=['ls','lad','huber','quantile']"
   ]
  },
  {
   "cell_type": "code",
   "execution_count": 48,
   "metadata": {},
   "outputs": [],
   "source": [
    "random_grid={'n_estimators': n_estimators,\n",
    "             'max_depth': max_depth,\n",
    "             'min_samples_leaf': min_samples_leaf,\n",
    "             'min_samples_split': min_samples_split,\n",
    "             'learning_rate': learning_rate,\n",
    "             'max_features': max_features,\n",
    "             'loss': loss}"
   ]
  },
  {
   "cell_type": "code",
   "execution_count": 49,
   "metadata": {},
   "outputs": [
    {
     "name": "stdout",
     "output_type": "stream",
     "text": [
      "Fitting 3 folds for each of 100 candidates, totalling 300 fits\n"
     ]
    },
    {
     "name": "stderr",
     "output_type": "stream",
     "text": [
      "[Parallel(n_jobs=-1)]: Using backend LokyBackend with 8 concurrent workers.\n",
      "[Parallel(n_jobs=-1)]: Done  34 tasks      | elapsed:   22.0s\n",
      "[Parallel(n_jobs=-1)]: Done 184 tasks      | elapsed:  4.5min\n",
      "[Parallel(n_jobs=-1)]: Done 300 out of 300 | elapsed:  7.8min finished\n"
     ]
    }
   ],
   "source": [
    "gbr=GradientBoostingRegressor()\n",
    "gbr_random=RandomizedSearchCV(estimator=gbr, param_distributions=random_grid, n_iter=100, cv=3, verbose=1, random_state=42, n_jobs=-1, return_train_score=True)\n",
    "gbr_random.fit(X_train, y_train);"
   ]
  },
  {
   "cell_type": "code",
   "execution_count": 50,
   "metadata": {},
   "outputs": [
    {
     "name": "stdout",
     "output_type": "stream",
     "text": [
      "Model Performance\n",
      "Average Error: 6.5710 degrees.\n",
      "Accuracy = -1.79%.\n",
      "-1.7946441977822758\n"
     ]
    }
   ],
   "source": [
    "base_model_gbr=GradientBoostingRegressor(random_state=42)\n",
    "base_model_gbr.fit(X_train, y_train)\n",
    "base_accuracy_gbr=evaluate(base_model_gbr, X_test, y_test)\n",
    "print(base_accuracy_gbr)"
   ]
  },
  {
   "cell_type": "code",
   "execution_count": 51,
   "metadata": {
    "scrolled": true
   },
   "outputs": [
    {
     "name": "stdout",
     "output_type": "stream",
     "text": [
      "Model Performance\n",
      "Average Error: 6.5344 degrees.\n",
      "Accuracy = -3.90%.\n",
      "-3.896561257816103\n"
     ]
    }
   ],
   "source": [
    "best_random_gbr=gbr_random.best_estimator_\n",
    "random_accuracy_gbr=evaluate(best_random_gbr, X_test, y_test)\n",
    "print(random_accuracy_gbr)"
   ]
  },
  {
   "cell_type": "markdown",
   "metadata": {},
   "source": [
    "Optimizied hyperparameters of the Gradient Boosting Regression model."
   ]
  },
  {
   "cell_type": "code",
   "execution_count": 52,
   "metadata": {},
   "outputs": [
    {
     "name": "stdout",
     "output_type": "stream",
     "text": [
      "Improvement of 117.12%.\n",
      "{'learning_rate': 0.05555555555555555,\n",
      " 'loss': 'ls',\n",
      " 'max_depth': 5,\n",
      " 'max_features': 'log2',\n",
      " 'min_samples_leaf': 1,\n",
      " 'min_samples_split': 5,\n",
      " 'n_estimators': 22}\n"
     ]
    }
   ],
   "source": [
    "print('Improvement of {:0.2f}%.'.format( 100*(random_accuracy_gbr-base_accuracy_gbr)/base_accuracy_gbr))\n",
    "pprint(gbr_random.best_params_)"
   ]
  },
  {
   "cell_type": "code",
   "execution_count": 53,
   "metadata": {},
   "outputs": [
    {
     "data": {
      "text/plain": [
       "GradientBoostingRegressor(learning_rate=0.1111111111111111, loss='huber',\n",
       "                          max_depth=5, max_features='auto', min_samples_leaf=2,\n",
       "                          min_samples_split=10, n_estimators=51,\n",
       "                          random_state=42)"
      ]
     },
     "execution_count": 53,
     "metadata": {},
     "output_type": "execute_result"
    }
   ],
   "source": [
    "gbr_reg=GradientBoostingRegressor(n_estimators=51,\n",
    "                              max_depth=5,\n",
    "                              max_features='auto',\n",
    "                              learning_rate=0.1111111111111111,\n",
    "                              min_samples_leaf=2,\n",
    "                              min_samples_split=10,\n",
    "                              loss='huber',\n",
    "                              random_state=42)\n",
    "gbr_reg.fit(X_train, y_train)"
   ]
  },
  {
   "cell_type": "code",
   "execution_count": 54,
   "metadata": {},
   "outputs": [
    {
     "name": "stdout",
     "output_type": "stream",
     "text": [
      "[17.14220436 17.14220436 17.14220436 ... 21.51438075 18.84954543\n",
      " 18.87746256]\n"
     ]
    }
   ],
   "source": [
    "y_pred_gbr=gbr_reg.predict(X_test)\n",
    "print(y_pred_gbr)"
   ]
  },
  {
   "cell_type": "markdown",
   "metadata": {},
   "source": [
    "The following plot is the output of the Gradient Boosting Regression model that predicted the trending category ID of youtube videos based on the channel Id, view count, likes, dislikes, comment count, published date, and trending date. Blue represents the training data, orange is the test data, and green is the predition of the model. The Gradient Boosting Regression model works much better!"
   ]
  },
  {
   "cell_type": "code",
   "execution_count": 55,
   "metadata": {},
   "outputs": [
    {
     "data": {
      "text/plain": [
       "(737640.0, 737730.0)"
      ]
     },
     "execution_count": 55,
     "metadata": {},
     "output_type": "execute_result"
    },
    {
     "data": {
      "image/png": "[encoded data removed]",
      "text/plain": [
       "<Figure size 432x288 with 1 Axes>"
      ]
     },
     "metadata": {
      "needs_background": "light"
     },
     "output_type": "display_data"
    }
   ],
   "source": [
    "fig, ax = plt.subplots()\n",
    "sns.regplot(x='publishedAt1', y=y_train, data=df);\n",
    "sns.regplot(x='publishedAt1', y=y_test, data=df2);\n",
    "sns.regplot(x='publishedAt1', y=y_pred_gbr, data=df2);\n",
    "plt.ylim(0,30)\n",
    "plt.xlim(737640, 737730)"
   ]
  },
  {
   "cell_type": "code",
   "execution_count": null,
   "metadata": {},
   "outputs": [],
   "source": []
  }
 ],
 "metadata": {
  "kernelspec": {
   "display_name": "Python 3",
   "language": "python",
   "name": "python3"
  },
  "language_info": {
   "codemirror_mode": {
    "name": "ipython",
    "version": 3
   },
   "file_extension": ".py",
   "mimetype": "text/x-python",
   "name": "python",
   "nbconvert_exporter": "python",
   "pygments_lexer": "ipython3",
   "version": "3.7.7"
  }
 },
 "nbformat": 4,
 "nbformat_minor": 4
}
