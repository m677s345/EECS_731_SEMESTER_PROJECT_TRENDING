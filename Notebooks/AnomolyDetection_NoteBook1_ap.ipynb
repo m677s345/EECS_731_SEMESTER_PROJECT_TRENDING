{
 "cells": [
  {
   "cell_type": "markdown",
   "metadata": {},
   "source": [
    "# Anomaly Detection: Notebook 1: Initial Exploration and Tag Analysis via PyTrends\n",
    "\n",
    "## Adam Podgorny"
   ]
  },
  {
   "cell_type": "code",
   "execution_count": 357,
   "metadata": {},
   "outputs": [],
   "source": [
    "import pandas as pd\n",
    "from matplotlib import pyplot as plt\n",
    "import seaborn as sns\n",
    "import pytrends as pt\n",
    "from math import log\n",
    "import numpy as np\n",
    "from pytrends.request import TrendReq"
   ]
  },
  {
   "cell_type": "code",
   "execution_count": 358,
   "metadata": {},
   "outputs": [],
   "source": [
    "data = pd.read_csv(\"US_youtube_trending_data.csv\")"
   ]
  },
  {
   "cell_type": "code",
   "execution_count": 359,
   "metadata": {},
   "outputs": [
    {
     "data": {
      "text/plain": [
       "Index(['video_id', 'title', 'publishedAt', 'channelId', 'channelTitle',\n",
       "       'categoryId', 'trending_date', 'tags', 'view_count', 'likes',\n",
       "       'dislikes', 'comment_count', 'thumbnail_link', 'comments_disabled',\n",
       "       'ratings_disabled', 'description'],\n",
       "      dtype='object')"
      ]
     },
     "execution_count": 359,
     "metadata": {},
     "output_type": "execute_result"
    }
   ],
   "source": [
    "data.columns"
   ]
  },
  {
   "cell_type": "code",
   "execution_count": 360,
   "metadata": {},
   "outputs": [
    {
     "data": {
      "text/html": [
       "<div>\n",
       "<style scoped>\n",
       "    .dataframe tbody tr th:only-of-type {\n",
       "        vertical-align: middle;\n",
       "    }\n",
       "\n",
       "    .dataframe tbody tr th {\n",
       "        vertical-align: top;\n",
       "    }\n",
       "\n",
       "    .dataframe thead th {\n",
       "        text-align: right;\n",
       "    }\n",
       "</style>\n",
       "<table border=\"1\" class=\"dataframe\">\n",
       "  <thead>\n",
       "    <tr style=\"text-align: right;\">\n",
       "      <th></th>\n",
       "      <th>video_id</th>\n",
       "      <th>title</th>\n",
       "      <th>publishedAt</th>\n",
       "      <th>channelId</th>\n",
       "      <th>channelTitle</th>\n",
       "      <th>categoryId</th>\n",
       "      <th>trending_date</th>\n",
       "      <th>tags</th>\n",
       "      <th>view_count</th>\n",
       "      <th>likes</th>\n",
       "      <th>dislikes</th>\n",
       "      <th>comment_count</th>\n",
       "      <th>thumbnail_link</th>\n",
       "      <th>comments_disabled</th>\n",
       "      <th>ratings_disabled</th>\n",
       "      <th>description</th>\n",
       "    </tr>\n",
       "  </thead>\n",
       "  <tbody>\n",
       "    <tr>\n",
       "      <td>0</td>\n",
       "      <td>3C66w5Z0ixs</td>\n",
       "      <td>I ASKED HER TO BE MY GIRLFRIEND...</td>\n",
       "      <td>2020-08-11T19:20:14Z</td>\n",
       "      <td>UCvtRTOMP2TqYqu51xNrqAzg</td>\n",
       "      <td>Brawadis</td>\n",
       "      <td>22</td>\n",
       "      <td>2020-08-12T00:00:00Z</td>\n",
       "      <td>brawadis|prank|basketball|skits|ghost|funny vi...</td>\n",
       "      <td>1514614</td>\n",
       "      <td>156908</td>\n",
       "      <td>5855</td>\n",
       "      <td>35313</td>\n",
       "      <td>https://i.ytimg.com/vi/3C66w5Z0ixs/default.jpg</td>\n",
       "      <td>False</td>\n",
       "      <td>False</td>\n",
       "      <td>SUBSCRIBE to BRAWADIS ▶ http://bit.ly/Subscrib...</td>\n",
       "    </tr>\n",
       "    <tr>\n",
       "      <td>1</td>\n",
       "      <td>M9Pmf9AB4Mo</td>\n",
       "      <td>Apex Legends | Stories from the Outlands – “Th...</td>\n",
       "      <td>2020-08-11T17:00:10Z</td>\n",
       "      <td>UC0ZV6M2THA81QT9hrVWJG3A</td>\n",
       "      <td>Apex Legends</td>\n",
       "      <td>20</td>\n",
       "      <td>2020-08-12T00:00:00Z</td>\n",
       "      <td>Apex Legends|Apex Legends characters|new Apex ...</td>\n",
       "      <td>2381688</td>\n",
       "      <td>146739</td>\n",
       "      <td>2794</td>\n",
       "      <td>16549</td>\n",
       "      <td>https://i.ytimg.com/vi/M9Pmf9AB4Mo/default.jpg</td>\n",
       "      <td>False</td>\n",
       "      <td>False</td>\n",
       "      <td>While running her own modding shop, Ramya Pare...</td>\n",
       "    </tr>\n",
       "    <tr>\n",
       "      <td>2</td>\n",
       "      <td>J78aPJ3VyNs</td>\n",
       "      <td>I left youtube for a month and THIS is what ha...</td>\n",
       "      <td>2020-08-11T16:34:06Z</td>\n",
       "      <td>UCYzPXprvl5Y-Sf0g4vX-m6g</td>\n",
       "      <td>jacksepticeye</td>\n",
       "      <td>24</td>\n",
       "      <td>2020-08-12T00:00:00Z</td>\n",
       "      <td>jacksepticeye|funny|funny meme|memes|jacksepti...</td>\n",
       "      <td>2038853</td>\n",
       "      <td>353787</td>\n",
       "      <td>2628</td>\n",
       "      <td>40221</td>\n",
       "      <td>https://i.ytimg.com/vi/J78aPJ3VyNs/default.jpg</td>\n",
       "      <td>False</td>\n",
       "      <td>False</td>\n",
       "      <td>I left youtube for a month and this is what ha...</td>\n",
       "    </tr>\n",
       "    <tr>\n",
       "      <td>3</td>\n",
       "      <td>kXLn3HkpjaA</td>\n",
       "      <td>XXL 2020 Freshman Class Revealed - Official An...</td>\n",
       "      <td>2020-08-11T16:38:55Z</td>\n",
       "      <td>UCbg_UMjlHJg_19SZckaKajg</td>\n",
       "      <td>XXL</td>\n",
       "      <td>10</td>\n",
       "      <td>2020-08-12T00:00:00Z</td>\n",
       "      <td>xxl freshman|xxl freshmen|2020 xxl freshman|20...</td>\n",
       "      <td>496771</td>\n",
       "      <td>23251</td>\n",
       "      <td>1856</td>\n",
       "      <td>7647</td>\n",
       "      <td>https://i.ytimg.com/vi/kXLn3HkpjaA/default.jpg</td>\n",
       "      <td>False</td>\n",
       "      <td>False</td>\n",
       "      <td>Subscribe to XXL → http://bit.ly/subscribe-xxl...</td>\n",
       "    </tr>\n",
       "    <tr>\n",
       "      <td>4</td>\n",
       "      <td>VIUo6yapDbc</td>\n",
       "      <td>Ultimate DIY Home Movie Theater for The LaBran...</td>\n",
       "      <td>2020-08-11T15:10:05Z</td>\n",
       "      <td>UCDVPcEbVLQgLZX0Rt6jo34A</td>\n",
       "      <td>Mr. Kate</td>\n",
       "      <td>26</td>\n",
       "      <td>2020-08-12T00:00:00Z</td>\n",
       "      <td>The LaBrant Family|DIY|Interior Design|Makeove...</td>\n",
       "      <td>1123889</td>\n",
       "      <td>45802</td>\n",
       "      <td>964</td>\n",
       "      <td>2196</td>\n",
       "      <td>https://i.ytimg.com/vi/VIUo6yapDbc/default.jpg</td>\n",
       "      <td>False</td>\n",
       "      <td>False</td>\n",
       "      <td>Transforming The LaBrant Family's empty white ...</td>\n",
       "    </tr>\n",
       "    <tr>\n",
       "      <td>...</td>\n",
       "      <td>...</td>\n",
       "      <td>...</td>\n",
       "      <td>...</td>\n",
       "      <td>...</td>\n",
       "      <td>...</td>\n",
       "      <td>...</td>\n",
       "      <td>...</td>\n",
       "      <td>...</td>\n",
       "      <td>...</td>\n",
       "      <td>...</td>\n",
       "      <td>...</td>\n",
       "      <td>...</td>\n",
       "      <td>...</td>\n",
       "      <td>...</td>\n",
       "      <td>...</td>\n",
       "      <td>...</td>\n",
       "    </tr>\n",
       "    <tr>\n",
       "      <td>14193</td>\n",
       "      <td>ACzGSnVHjdo</td>\n",
       "      <td>WE ARE NBA CHAMPIONS!!! | Life in the Bubble -...</td>\n",
       "      <td>2020-10-16T02:00:13Z</td>\n",
       "      <td>UCNlhQwl2hGoMRRsQK722cTg</td>\n",
       "      <td>JaVale McGee</td>\n",
       "      <td>22</td>\n",
       "      <td>2020-10-21T00:00:00Z</td>\n",
       "      <td>JaVale McGee|Los Angeles Lakers|Golden State W...</td>\n",
       "      <td>1113891</td>\n",
       "      <td>72531</td>\n",
       "      <td>417</td>\n",
       "      <td>4549</td>\n",
       "      <td>https://i.ytimg.com/vi/ACzGSnVHjdo/default.jpg</td>\n",
       "      <td>False</td>\n",
       "      <td>False</td>\n",
       "      <td>THE LOS ANGELES LAKERS ARE 2020 NBA CHAMPIONS ...</td>\n",
       "    </tr>\n",
       "    <tr>\n",
       "      <td>14194</td>\n",
       "      <td>Adwl0y3qKUI</td>\n",
       "      <td>Hollywood Undead - Heart Of A Champion feat. P...</td>\n",
       "      <td>2020-10-16T04:00:10Z</td>\n",
       "      <td>UCYEIC1WKHEJHR971HIySQMg</td>\n",
       "      <td>Hollywood Undead</td>\n",
       "      <td>10</td>\n",
       "      <td>2020-10-21T00:00:00Z</td>\n",
       "      <td>Hollywood Undead|hollywood undead heart of a c...</td>\n",
       "      <td>507587</td>\n",
       "      <td>46292</td>\n",
       "      <td>410</td>\n",
       "      <td>2681</td>\n",
       "      <td>https://i.ytimg.com/vi/Adwl0y3qKUI/default.jpg</td>\n",
       "      <td>False</td>\n",
       "      <td>False</td>\n",
       "      <td>Hollywood Undead - Heart Of A Champion feat. J...</td>\n",
       "    </tr>\n",
       "    <tr>\n",
       "      <td>14195</td>\n",
       "      <td>vEnW8rLMJlc</td>\n",
       "      <td>Ty Dolla $ign - By Yourself (feat. Jhené Aiko ...</td>\n",
       "      <td>2020-10-16T04:00:23Z</td>\n",
       "      <td>UClVY6MdQxTZUaMDL-dLQDcw</td>\n",
       "      <td>Ty Dolla $ign</td>\n",
       "      <td>10</td>\n",
       "      <td>2020-10-21T00:00:00Z</td>\n",
       "      <td>ty dolla $ign|ty dolla sign paranoid|ty dolla ...</td>\n",
       "      <td>884439</td>\n",
       "      <td>20792</td>\n",
       "      <td>284</td>\n",
       "      <td>472</td>\n",
       "      <td>https://i.ytimg.com/vi/vEnW8rLMJlc/default.jpg</td>\n",
       "      <td>False</td>\n",
       "      <td>False</td>\n",
       "      <td>New album 'Featuring Ty Dolla $ign' available ...</td>\n",
       "    </tr>\n",
       "    <tr>\n",
       "      <td>14196</td>\n",
       "      <td>4QJacjZyQHA</td>\n",
       "      <td>Julie and the Phantoms BTS | Shot Compare Edge...</td>\n",
       "      <td>2020-10-16T17:00:10Z</td>\n",
       "      <td>UCgBMA7cbgYkZouLYs92BBbg</td>\n",
       "      <td>The Paul Becker Channel</td>\n",
       "      <td>24</td>\n",
       "      <td>2020-10-21T00:00:00Z</td>\n",
       "      <td>Kenny Ortega|Booboo Stewart|Owen Joyner|Maddi ...</td>\n",
       "      <td>384655</td>\n",
       "      <td>19600</td>\n",
       "      <td>76</td>\n",
       "      <td>741</td>\n",
       "      <td>https://i.ytimg.com/vi/4QJacjZyQHA/default.jpg</td>\n",
       "      <td>False</td>\n",
       "      <td>False</td>\n",
       "      <td>Okay Fantoms!  you asked for it.  Here is a co...</td>\n",
       "    </tr>\n",
       "    <tr>\n",
       "      <td>14197</td>\n",
       "      <td>mwbqqSVIgC4</td>\n",
       "      <td>MY FALL FAVORITES!! 2020 EDITION!</td>\n",
       "      <td>2020-10-15T22:51:21Z</td>\n",
       "      <td>UC6jgzx2g3nlbaYkd8EMweKA</td>\n",
       "      <td>Jaclyn Hill</td>\n",
       "      <td>26</td>\n",
       "      <td>2020-10-21T00:00:00Z</td>\n",
       "      <td>jaclynhill1|jaclyn hill|makeup tutorial|smokey...</td>\n",
       "      <td>726558</td>\n",
       "      <td>37328</td>\n",
       "      <td>798</td>\n",
       "      <td>4351</td>\n",
       "      <td>https://i.ytimg.com/vi/mwbqqSVIgC4/default.jpg</td>\n",
       "      <td>False</td>\n",
       "      <td>False</td>\n",
       "      <td>CHECK OUT MY PALETTES &amp; BRUSHES HERE!!http://m...</td>\n",
       "    </tr>\n",
       "  </tbody>\n",
       "</table>\n",
       "<p>14198 rows × 16 columns</p>\n",
       "</div>"
      ],
      "text/plain": [
       "          video_id                                              title  \\\n",
       "0      3C66w5Z0ixs                 I ASKED HER TO BE MY GIRLFRIEND...   \n",
       "1      M9Pmf9AB4Mo  Apex Legends | Stories from the Outlands – “Th...   \n",
       "2      J78aPJ3VyNs  I left youtube for a month and THIS is what ha...   \n",
       "3      kXLn3HkpjaA  XXL 2020 Freshman Class Revealed - Official An...   \n",
       "4      VIUo6yapDbc  Ultimate DIY Home Movie Theater for The LaBran...   \n",
       "...            ...                                                ...   \n",
       "14193  ACzGSnVHjdo  WE ARE NBA CHAMPIONS!!! | Life in the Bubble -...   \n",
       "14194  Adwl0y3qKUI  Hollywood Undead - Heart Of A Champion feat. P...   \n",
       "14195  vEnW8rLMJlc  Ty Dolla $ign - By Yourself (feat. Jhené Aiko ...   \n",
       "14196  4QJacjZyQHA  Julie and the Phantoms BTS | Shot Compare Edge...   \n",
       "14197  mwbqqSVIgC4                  MY FALL FAVORITES!! 2020 EDITION!   \n",
       "\n",
       "                publishedAt                 channelId  \\\n",
       "0      2020-08-11T19:20:14Z  UCvtRTOMP2TqYqu51xNrqAzg   \n",
       "1      2020-08-11T17:00:10Z  UC0ZV6M2THA81QT9hrVWJG3A   \n",
       "2      2020-08-11T16:34:06Z  UCYzPXprvl5Y-Sf0g4vX-m6g   \n",
       "3      2020-08-11T16:38:55Z  UCbg_UMjlHJg_19SZckaKajg   \n",
       "4      2020-08-11T15:10:05Z  UCDVPcEbVLQgLZX0Rt6jo34A   \n",
       "...                     ...                       ...   \n",
       "14193  2020-10-16T02:00:13Z  UCNlhQwl2hGoMRRsQK722cTg   \n",
       "14194  2020-10-16T04:00:10Z  UCYEIC1WKHEJHR971HIySQMg   \n",
       "14195  2020-10-16T04:00:23Z  UClVY6MdQxTZUaMDL-dLQDcw   \n",
       "14196  2020-10-16T17:00:10Z  UCgBMA7cbgYkZouLYs92BBbg   \n",
       "14197  2020-10-15T22:51:21Z  UC6jgzx2g3nlbaYkd8EMweKA   \n",
       "\n",
       "                  channelTitle  categoryId         trending_date  \\\n",
       "0                     Brawadis          22  2020-08-12T00:00:00Z   \n",
       "1                 Apex Legends          20  2020-08-12T00:00:00Z   \n",
       "2                jacksepticeye          24  2020-08-12T00:00:00Z   \n",
       "3                          XXL          10  2020-08-12T00:00:00Z   \n",
       "4                     Mr. Kate          26  2020-08-12T00:00:00Z   \n",
       "...                        ...         ...                   ...   \n",
       "14193             JaVale McGee          22  2020-10-21T00:00:00Z   \n",
       "14194         Hollywood Undead          10  2020-10-21T00:00:00Z   \n",
       "14195            Ty Dolla $ign          10  2020-10-21T00:00:00Z   \n",
       "14196  The Paul Becker Channel          24  2020-10-21T00:00:00Z   \n",
       "14197              Jaclyn Hill          26  2020-10-21T00:00:00Z   \n",
       "\n",
       "                                                    tags  view_count   likes  \\\n",
       "0      brawadis|prank|basketball|skits|ghost|funny vi...     1514614  156908   \n",
       "1      Apex Legends|Apex Legends characters|new Apex ...     2381688  146739   \n",
       "2      jacksepticeye|funny|funny meme|memes|jacksepti...     2038853  353787   \n",
       "3      xxl freshman|xxl freshmen|2020 xxl freshman|20...      496771   23251   \n",
       "4      The LaBrant Family|DIY|Interior Design|Makeove...     1123889   45802   \n",
       "...                                                  ...         ...     ...   \n",
       "14193  JaVale McGee|Los Angeles Lakers|Golden State W...     1113891   72531   \n",
       "14194  Hollywood Undead|hollywood undead heart of a c...      507587   46292   \n",
       "14195  ty dolla $ign|ty dolla sign paranoid|ty dolla ...      884439   20792   \n",
       "14196  Kenny Ortega|Booboo Stewart|Owen Joyner|Maddi ...      384655   19600   \n",
       "14197  jaclynhill1|jaclyn hill|makeup tutorial|smokey...      726558   37328   \n",
       "\n",
       "       dislikes  comment_count  \\\n",
       "0          5855          35313   \n",
       "1          2794          16549   \n",
       "2          2628          40221   \n",
       "3          1856           7647   \n",
       "4           964           2196   \n",
       "...         ...            ...   \n",
       "14193       417           4549   \n",
       "14194       410           2681   \n",
       "14195       284            472   \n",
       "14196        76            741   \n",
       "14197       798           4351   \n",
       "\n",
       "                                       thumbnail_link  comments_disabled  \\\n",
       "0      https://i.ytimg.com/vi/3C66w5Z0ixs/default.jpg              False   \n",
       "1      https://i.ytimg.com/vi/M9Pmf9AB4Mo/default.jpg              False   \n",
       "2      https://i.ytimg.com/vi/J78aPJ3VyNs/default.jpg              False   \n",
       "3      https://i.ytimg.com/vi/kXLn3HkpjaA/default.jpg              False   \n",
       "4      https://i.ytimg.com/vi/VIUo6yapDbc/default.jpg              False   \n",
       "...                                               ...                ...   \n",
       "14193  https://i.ytimg.com/vi/ACzGSnVHjdo/default.jpg              False   \n",
       "14194  https://i.ytimg.com/vi/Adwl0y3qKUI/default.jpg              False   \n",
       "14195  https://i.ytimg.com/vi/vEnW8rLMJlc/default.jpg              False   \n",
       "14196  https://i.ytimg.com/vi/4QJacjZyQHA/default.jpg              False   \n",
       "14197  https://i.ytimg.com/vi/mwbqqSVIgC4/default.jpg              False   \n",
       "\n",
       "       ratings_disabled                                        description  \n",
       "0                 False  SUBSCRIBE to BRAWADIS ▶ http://bit.ly/Subscrib...  \n",
       "1                 False  While running her own modding shop, Ramya Pare...  \n",
       "2                 False  I left youtube for a month and this is what ha...  \n",
       "3                 False  Subscribe to XXL → http://bit.ly/subscribe-xxl...  \n",
       "4                 False  Transforming The LaBrant Family's empty white ...  \n",
       "...                 ...                                                ...  \n",
       "14193             False  THE LOS ANGELES LAKERS ARE 2020 NBA CHAMPIONS ...  \n",
       "14194             False  Hollywood Undead - Heart Of A Champion feat. J...  \n",
       "14195             False  New album 'Featuring Ty Dolla $ign' available ...  \n",
       "14196             False  Okay Fantoms!  you asked for it.  Here is a co...  \n",
       "14197             False  CHECK OUT MY PALETTES & BRUSHES HERE!!http://m...  \n",
       "\n",
       "[14198 rows x 16 columns]"
      ]
     },
     "execution_count": 360,
     "metadata": {},
     "output_type": "execute_result"
    }
   ],
   "source": [
    "data"
   ]
  },
  {
   "cell_type": "markdown",
   "metadata": {},
   "source": [
    "## Initial Data Exploration and Feature Engineering"
   ]
  },
  {
   "cell_type": "code",
   "execution_count": null,
   "metadata": {},
   "outputs": [],
   "source": [
    "id_redundancies = data['video_id']\n",
    "id_redundancies = id_redundancies.value_counts()\n",
    "peaks = data['video_id'].apply(lambda x: id_redundancies.loc[x])"
   ]
  },
  {
   "cell_type": "code",
   "execution_count": 362,
   "metadata": {},
   "outputs": [],
   "source": [
    "data['post_date'] = data['publishedAt'].apply(lambda x: x.split(\"T\")[0])\n",
    "data['post_time'] = data['publishedAt'].apply(lambda x: x.split(\"T\")[1])\n",
    "data['post_time'] = data['post_time'].apply(lambda x: x[0:len(x)-1])\n",
    "data['trend_date'] = data['trending_date'].apply(lambda x: x.split(\"T\")[0])\n",
    "data['title_len'] = data['title'].apply(lambda x: len(x))\n",
    "data['ratio'] = data.apply(lambda x: x['likes']/(x['dislikes'] + 0.01), axis=1)\n",
    "data['engagement'] = data.apply(lambda x: x['likes'] + x['comment_count'] + x['dislikes'], axis=1)\n",
    "data['e/v'] = data.apply(lambda x: x['engagement']/x['view_count'], axis=1)"
   ]
  },
  {
   "cell_type": "code",
   "execution_count": 363,
   "metadata": {},
   "outputs": [],
   "source": [
    "data = data.drop(['trending_date', 'publishedAt', \"thumbnail_link\"], axis=1)\n",
    "data = data.drop(['title'], axis=1) ##Since we know we can't search the title on pytrends\n",
    "data = data.drop(['channelId'], axis=1)\n",
    "data = data.drop(['description', 'comments_disabled', 'ratings_disabled'], axis=1)"
   ]
  },
  {
   "cell_type": "code",
   "execution_count": 364,
   "metadata": {},
   "outputs": [
    {
     "data": {
      "text/plain": [
       "[1, 2, 10, 15, 17, 19, 20, 22, 23, 24, 25, 26, 27, 28, 29]"
      ]
     },
     "execution_count": 364,
     "metadata": {},
     "output_type": "execute_result"
    }
   ],
   "source": [
    "categories = data['categoryId'].to_list()\n",
    "categories=set(categories)\n",
    "categories = list(categories)\n",
    "categories"
   ]
  },
  {
   "cell_type": "markdown",
   "metadata": {},
   "source": [
    "## Tag Data Visualization & Misc Analytics"
   ]
  },
  {
   "cell_type": "code",
   "execution_count": 9,
   "metadata": {},
   "outputs": [],
   "source": [
    "pre_tags = data['tags'].to_list()\n",
    "#tags = tags.split(\"|\")\n",
    "tags = []\n",
    "for i in pre_tags:\n",
    "    t= (i.split(\"|\"))\n",
    "    for j in t:\n",
    "        tags.append(j)\n",
    "        \n",
    "#tags = set(tags)\n",
    "s_tags = pd.Series(tags)\n",
    "tag_counts = s_tags.value_counts()\n",
    "tag_counts = tag_counts[tag_counts > 1]"
   ]
  },
  {
   "cell_type": "code",
   "execution_count": 10,
   "metadata": {},
   "outputs": [
    {
     "data": {
      "text/plain": [
       "<matplotlib.axes._subplots.AxesSubplot at 0x7fa1aee7fc50>"
      ]
     },
     "execution_count": 10,
     "metadata": {},
     "output_type": "execute_result"
    },
    {
     "data": {
      "image/png": "[encoded data removed]",
      "text/plain": [
       "<Figure size 432x288 with 1 Axes>"
      ]
     },
     "metadata": {
      "needs_background": "light"
     },
     "output_type": "display_data"
    }
   ],
   "source": [
    "sns.violinplot(tag_counts)"
   ]
  },
  {
   "cell_type": "code",
   "execution_count": 11,
   "metadata": {},
   "outputs": [
    {
     "data": {
      "text/plain": [
       "15.931136211717261"
      ]
     },
     "execution_count": 11,
     "metadata": {},
     "output_type": "execute_result"
    }
   ],
   "source": [
    "tag_std = np.std(tag_counts)\n",
    "tag_std"
   ]
  },
  {
   "cell_type": "code",
   "execution_count": 12,
   "metadata": {},
   "outputs": [
    {
     "data": {
      "text/plain": [
       "8.661419681187393"
      ]
     },
     "execution_count": 12,
     "metadata": {},
     "output_type": "execute_result"
    }
   ],
   "source": [
    "tag_mean = np.mean(tag_counts)\n",
    "tag_ub = tag_mean + (tag_std*2)\n",
    "tag_mean"
   ]
  },
  {
   "cell_type": "code",
   "execution_count": 13,
   "metadata": {},
   "outputs": [
    {
     "data": {
      "text/html": [
       "<div>\n",
       "<style scoped>\n",
       "    .dataframe tbody tr th:only-of-type {\n",
       "        vertical-align: middle;\n",
       "    }\n",
       "\n",
       "    .dataframe tbody tr th {\n",
       "        vertical-align: top;\n",
       "    }\n",
       "\n",
       "    .dataframe thead th {\n",
       "        text-align: right;\n",
       "    }\n",
       "</style>\n",
       "<table border=\"1\" class=\"dataframe\">\n",
       "  <thead>\n",
       "    <tr style=\"text-align: right;\">\n",
       "      <th></th>\n",
       "      <th>categoryId</th>\n",
       "      <th>view_count</th>\n",
       "      <th>likes</th>\n",
       "      <th>dislikes</th>\n",
       "      <th>comment_count</th>\n",
       "      <th>title_len</th>\n",
       "      <th>ratio</th>\n",
       "      <th>engagement</th>\n",
       "    </tr>\n",
       "  </thead>\n",
       "  <tbody>\n",
       "    <tr>\n",
       "      <td>categoryId</td>\n",
       "      <td>1.000000</td>\n",
       "      <td>-0.092123</td>\n",
       "      <td>-0.107109</td>\n",
       "      <td>-0.064509</td>\n",
       "      <td>-0.070564</td>\n",
       "      <td>-0.018096</td>\n",
       "      <td>-0.059751</td>\n",
       "      <td>-0.101798</td>\n",
       "    </tr>\n",
       "    <tr>\n",
       "      <td>view_count</td>\n",
       "      <td>-0.092123</td>\n",
       "      <td>1.000000</td>\n",
       "      <td>0.919379</td>\n",
       "      <td>0.816765</td>\n",
       "      <td>0.762391</td>\n",
       "      <td>-0.060714</td>\n",
       "      <td>-0.056538</td>\n",
       "      <td>0.918302</td>\n",
       "    </tr>\n",
       "    <tr>\n",
       "      <td>likes</td>\n",
       "      <td>-0.107109</td>\n",
       "      <td>0.919379</td>\n",
       "      <td>1.000000</td>\n",
       "      <td>0.795667</td>\n",
       "      <td>0.805310</td>\n",
       "      <td>-0.085512</td>\n",
       "      <td>0.037204</td>\n",
       "      <td>0.990104</td>\n",
       "    </tr>\n",
       "    <tr>\n",
       "      <td>dislikes</td>\n",
       "      <td>-0.064509</td>\n",
       "      <td>0.816765</td>\n",
       "      <td>0.795667</td>\n",
       "      <td>1.000000</td>\n",
       "      <td>0.750305</td>\n",
       "      <td>-0.025125</td>\n",
       "      <td>-0.075408</td>\n",
       "      <td>0.825614</td>\n",
       "    </tr>\n",
       "    <tr>\n",
       "      <td>comment_count</td>\n",
       "      <td>-0.070564</td>\n",
       "      <td>0.762391</td>\n",
       "      <td>0.805310</td>\n",
       "      <td>0.750305</td>\n",
       "      <td>1.000000</td>\n",
       "      <td>-0.021782</td>\n",
       "      <td>-0.018803</td>\n",
       "      <td>0.879590</td>\n",
       "    </tr>\n",
       "    <tr>\n",
       "      <td>title_len</td>\n",
       "      <td>-0.018096</td>\n",
       "      <td>-0.060714</td>\n",
       "      <td>-0.085512</td>\n",
       "      <td>-0.025125</td>\n",
       "      <td>-0.021782</td>\n",
       "      <td>1.000000</td>\n",
       "      <td>-0.190750</td>\n",
       "      <td>-0.072614</td>\n",
       "    </tr>\n",
       "    <tr>\n",
       "      <td>ratio</td>\n",
       "      <td>-0.059751</td>\n",
       "      <td>-0.056538</td>\n",
       "      <td>0.037204</td>\n",
       "      <td>-0.075408</td>\n",
       "      <td>-0.018803</td>\n",
       "      <td>-0.190750</td>\n",
       "      <td>1.000000</td>\n",
       "      <td>0.022136</td>\n",
       "    </tr>\n",
       "    <tr>\n",
       "      <td>engagement</td>\n",
       "      <td>-0.101798</td>\n",
       "      <td>0.918302</td>\n",
       "      <td>0.990104</td>\n",
       "      <td>0.825614</td>\n",
       "      <td>0.879590</td>\n",
       "      <td>-0.072614</td>\n",
       "      <td>0.022136</td>\n",
       "      <td>1.000000</td>\n",
       "    </tr>\n",
       "  </tbody>\n",
       "</table>\n",
       "</div>"
      ],
      "text/plain": [
       "               categoryId  view_count     likes  dislikes  comment_count  \\\n",
       "categoryId       1.000000   -0.092123 -0.107109 -0.064509      -0.070564   \n",
       "view_count      -0.092123    1.000000  0.919379  0.816765       0.762391   \n",
       "likes           -0.107109    0.919379  1.000000  0.795667       0.805310   \n",
       "dislikes        -0.064509    0.816765  0.795667  1.000000       0.750305   \n",
       "comment_count   -0.070564    0.762391  0.805310  0.750305       1.000000   \n",
       "title_len       -0.018096   -0.060714 -0.085512 -0.025125      -0.021782   \n",
       "ratio           -0.059751   -0.056538  0.037204 -0.075408      -0.018803   \n",
       "engagement      -0.101798    0.918302  0.990104  0.825614       0.879590   \n",
       "\n",
       "               title_len     ratio  engagement  \n",
       "categoryId     -0.018096 -0.059751   -0.101798  \n",
       "view_count     -0.060714 -0.056538    0.918302  \n",
       "likes          -0.085512  0.037204    0.990104  \n",
       "dislikes       -0.025125 -0.075408    0.825614  \n",
       "comment_count  -0.021782 -0.018803    0.879590  \n",
       "title_len       1.000000 -0.190750   -0.072614  \n",
       "ratio          -0.190750  1.000000    0.022136  \n",
       "engagement     -0.072614  0.022136    1.000000  "
      ]
     },
     "execution_count": 13,
     "metadata": {},
     "output_type": "execute_result"
    }
   ],
   "source": [
    "data.corr()"
   ]
  },
  {
   "cell_type": "code",
   "execution_count": 14,
   "metadata": {},
   "outputs": [],
   "source": [
    "category_stdevs = data.groupby(\"categoryId\").std()\n",
    "category_means = data.groupby(\"categoryId\").mean()\n",
    "means = []\n",
    "stdevs = []"
   ]
  },
  {
   "cell_type": "code",
   "execution_count": 15,
   "metadata": {},
   "outputs": [
    {
     "data": {
      "text/html": [
       "<div>\n",
       "<style scoped>\n",
       "    .dataframe tbody tr th:only-of-type {\n",
       "        vertical-align: middle;\n",
       "    }\n",
       "\n",
       "    .dataframe tbody tr th {\n",
       "        vertical-align: top;\n",
       "    }\n",
       "\n",
       "    .dataframe thead th {\n",
       "        text-align: right;\n",
       "    }\n",
       "</style>\n",
       "<table border=\"1\" class=\"dataframe\">\n",
       "  <thead>\n",
       "    <tr style=\"text-align: right;\">\n",
       "      <th></th>\n",
       "      <th>view_count</th>\n",
       "      <th>likes</th>\n",
       "      <th>dislikes</th>\n",
       "      <th>comment_count</th>\n",
       "      <th>title_len</th>\n",
       "      <th>ratio</th>\n",
       "      <th>engagement</th>\n",
       "    </tr>\n",
       "    <tr>\n",
       "      <th>categoryId</th>\n",
       "      <th></th>\n",
       "      <th></th>\n",
       "      <th></th>\n",
       "      <th></th>\n",
       "      <th></th>\n",
       "      <th></th>\n",
       "      <th></th>\n",
       "    </tr>\n",
       "  </thead>\n",
       "  <tbody>\n",
       "    <tr>\n",
       "      <td>1</td>\n",
       "      <td>2.612684e+06</td>\n",
       "      <td>9.954705e+04</td>\n",
       "      <td>2584.387086</td>\n",
       "      <td>8545.154127</td>\n",
       "      <td>16.350782</td>\n",
       "      <td>122.597679</td>\n",
       "      <td>1.091344e+05</td>\n",
       "    </tr>\n",
       "    <tr>\n",
       "      <td>2</td>\n",
       "      <td>1.667478e+06</td>\n",
       "      <td>1.949681e+05</td>\n",
       "      <td>1078.370678</td>\n",
       "      <td>7234.627216</td>\n",
       "      <td>19.805780</td>\n",
       "      <td>95.721576</td>\n",
       "      <td>2.022310e+05</td>\n",
       "    </tr>\n",
       "    <tr>\n",
       "      <td>10</td>\n",
       "      <td>1.494147e+07</td>\n",
       "      <td>1.104009e+06</td>\n",
       "      <td>53532.863357</td>\n",
       "      <td>335077.970911</td>\n",
       "      <td>18.145551</td>\n",
       "      <td>89.220722</td>\n",
       "      <td>1.440330e+06</td>\n",
       "    </tr>\n",
       "    <tr>\n",
       "      <td>15</td>\n",
       "      <td>9.714276e+05</td>\n",
       "      <td>3.856115e+04</td>\n",
       "      <td>697.275681</td>\n",
       "      <td>3693.798371</td>\n",
       "      <td>16.792284</td>\n",
       "      <td>47.198666</td>\n",
       "      <td>4.210287e+04</td>\n",
       "    </tr>\n",
       "    <tr>\n",
       "      <td>17</td>\n",
       "      <td>2.253058e+06</td>\n",
       "      <td>7.761153e+04</td>\n",
       "      <td>2028.267544</td>\n",
       "      <td>4935.159479</td>\n",
       "      <td>21.876618</td>\n",
       "      <td>36.427198</td>\n",
       "      <td>8.305932e+04</td>\n",
       "    </tr>\n",
       "    <tr>\n",
       "      <td>19</td>\n",
       "      <td>2.190508e+05</td>\n",
       "      <td>9.555096e+03</td>\n",
       "      <td>184.289503</td>\n",
       "      <td>1333.006121</td>\n",
       "      <td>16.242677</td>\n",
       "      <td>33.799686</td>\n",
       "      <td>1.069862e+04</td>\n",
       "    </tr>\n",
       "    <tr>\n",
       "      <td>20</td>\n",
       "      <td>5.706922e+06</td>\n",
       "      <td>2.351516e+05</td>\n",
       "      <td>8990.320425</td>\n",
       "      <td>43641.545947</td>\n",
       "      <td>18.688984</td>\n",
       "      <td>53.285624</td>\n",
       "      <td>2.591903e+05</td>\n",
       "    </tr>\n",
       "    <tr>\n",
       "      <td>22</td>\n",
       "      <td>2.537819e+06</td>\n",
       "      <td>1.850343e+05</td>\n",
       "      <td>17035.068178</td>\n",
       "      <td>12889.532567</td>\n",
       "      <td>18.980726</td>\n",
       "      <td>102.763327</td>\n",
       "      <td>1.985233e+05</td>\n",
       "    </tr>\n",
       "    <tr>\n",
       "      <td>23</td>\n",
       "      <td>1.871707e+06</td>\n",
       "      <td>2.109579e+05</td>\n",
       "      <td>2387.801986</td>\n",
       "      <td>12567.649337</td>\n",
       "      <td>16.766569</td>\n",
       "      <td>95.388393</td>\n",
       "      <td>2.233775e+05</td>\n",
       "    </tr>\n",
       "    <tr>\n",
       "      <td>24</td>\n",
       "      <td>4.383124e+06</td>\n",
       "      <td>3.201913e+05</td>\n",
       "      <td>6994.589362</td>\n",
       "      <td>27478.411219</td>\n",
       "      <td>18.792202</td>\n",
       "      <td>71.621004</td>\n",
       "      <td>3.484787e+05</td>\n",
       "    </tr>\n",
       "    <tr>\n",
       "      <td>25</td>\n",
       "      <td>1.735172e+06</td>\n",
       "      <td>3.063997e+04</td>\n",
       "      <td>4515.630743</td>\n",
       "      <td>13580.715794</td>\n",
       "      <td>16.883611</td>\n",
       "      <td>13.879600</td>\n",
       "      <td>4.313041e+04</td>\n",
       "    </tr>\n",
       "    <tr>\n",
       "      <td>26</td>\n",
       "      <td>1.496200e+06</td>\n",
       "      <td>9.052895e+04</td>\n",
       "      <td>7372.818600</td>\n",
       "      <td>6436.421613</td>\n",
       "      <td>18.455726</td>\n",
       "      <td>77.456645</td>\n",
       "      <td>9.835966e+04</td>\n",
       "    </tr>\n",
       "    <tr>\n",
       "      <td>27</td>\n",
       "      <td>1.121601e+06</td>\n",
       "      <td>7.601025e+04</td>\n",
       "      <td>1143.355246</td>\n",
       "      <td>7238.206968</td>\n",
       "      <td>19.441088</td>\n",
       "      <td>82.768667</td>\n",
       "      <td>8.301702e+04</td>\n",
       "    </tr>\n",
       "    <tr>\n",
       "      <td>28</td>\n",
       "      <td>5.632790e+06</td>\n",
       "      <td>1.611193e+05</td>\n",
       "      <td>7509.755661</td>\n",
       "      <td>10094.323194</td>\n",
       "      <td>17.631535</td>\n",
       "      <td>40.652837</td>\n",
       "      <td>1.737803e+05</td>\n",
       "    </tr>\n",
       "    <tr>\n",
       "      <td>29</td>\n",
       "      <td>1.143857e+06</td>\n",
       "      <td>1.424368e+04</td>\n",
       "      <td>311.690534</td>\n",
       "      <td>1384.612324</td>\n",
       "      <td>3.966527</td>\n",
       "      <td>17.101715</td>\n",
       "      <td>1.516532e+04</td>\n",
       "    </tr>\n",
       "  </tbody>\n",
       "</table>\n",
       "</div>"
      ],
      "text/plain": [
       "              view_count         likes      dislikes  comment_count  \\\n",
       "categoryId                                                            \n",
       "1           2.612684e+06  9.954705e+04   2584.387086    8545.154127   \n",
       "2           1.667478e+06  1.949681e+05   1078.370678    7234.627216   \n",
       "10          1.494147e+07  1.104009e+06  53532.863357  335077.970911   \n",
       "15          9.714276e+05  3.856115e+04    697.275681    3693.798371   \n",
       "17          2.253058e+06  7.761153e+04   2028.267544    4935.159479   \n",
       "19          2.190508e+05  9.555096e+03    184.289503    1333.006121   \n",
       "20          5.706922e+06  2.351516e+05   8990.320425   43641.545947   \n",
       "22          2.537819e+06  1.850343e+05  17035.068178   12889.532567   \n",
       "23          1.871707e+06  2.109579e+05   2387.801986   12567.649337   \n",
       "24          4.383124e+06  3.201913e+05   6994.589362   27478.411219   \n",
       "25          1.735172e+06  3.063997e+04   4515.630743   13580.715794   \n",
       "26          1.496200e+06  9.052895e+04   7372.818600    6436.421613   \n",
       "27          1.121601e+06  7.601025e+04   1143.355246    7238.206968   \n",
       "28          5.632790e+06  1.611193e+05   7509.755661   10094.323194   \n",
       "29          1.143857e+06  1.424368e+04    311.690534    1384.612324   \n",
       "\n",
       "            title_len       ratio    engagement  \n",
       "categoryId                                       \n",
       "1           16.350782  122.597679  1.091344e+05  \n",
       "2           19.805780   95.721576  2.022310e+05  \n",
       "10          18.145551   89.220722  1.440330e+06  \n",
       "15          16.792284   47.198666  4.210287e+04  \n",
       "17          21.876618   36.427198  8.305932e+04  \n",
       "19          16.242677   33.799686  1.069862e+04  \n",
       "20          18.688984   53.285624  2.591903e+05  \n",
       "22          18.980726  102.763327  1.985233e+05  \n",
       "23          16.766569   95.388393  2.233775e+05  \n",
       "24          18.792202   71.621004  3.484787e+05  \n",
       "25          16.883611   13.879600  4.313041e+04  \n",
       "26          18.455726   77.456645  9.835966e+04  \n",
       "27          19.441088   82.768667  8.301702e+04  \n",
       "28          17.631535   40.652837  1.737803e+05  \n",
       "29           3.966527   17.101715  1.516532e+04  "
      ]
     },
     "execution_count": 15,
     "metadata": {},
     "output_type": "execute_result"
    }
   ],
   "source": [
    "category_stdevs"
   ]
  },
  {
   "cell_type": "code",
   "execution_count": 16,
   "metadata": {},
   "outputs": [
    {
     "data": {
      "text/plain": [
       "<matplotlib.collections.PathCollection at 0x7fa1af2cd890>"
      ]
     },
     "execution_count": 16,
     "metadata": {},
     "output_type": "execute_result"
    },
    {
     "data": {
      "image/png": "[encoded data removed]",
      "text/plain": [
       "<Figure size 432x288 with 1 Axes>"
      ]
     },
     "metadata": {
      "needs_background": "light"
     },
     "output_type": "display_data"
    }
   ],
   "source": [
    "plt.scatter(data['categoryId'], data['view_count'])"
   ]
  },
  {
   "cell_type": "code",
   "execution_count": 17,
   "metadata": {},
   "outputs": [
    {
     "data": {
      "text/plain": [
       "<matplotlib.collections.PathCollection at 0x7fa1b0ccd590>"
      ]
     },
     "execution_count": 17,
     "metadata": {},
     "output_type": "execute_result"
    },
    {
     "data": {
      "image/png": "[encoded data removed]",
      "text/plain": [
       "<Figure size 432x288 with 1 Axes>"
      ]
     },
     "metadata": {
      "needs_background": "light"
     },
     "output_type": "display_data"
    }
   ],
   "source": [
    "plt.scatter(data['categoryId'], data['likes'])"
   ]
  },
  {
   "cell_type": "code",
   "execution_count": 18,
   "metadata": {},
   "outputs": [
    {
     "data": {
      "text/plain": [
       "<matplotlib.collections.PathCollection at 0x7fa1b0da4710>"
      ]
     },
     "execution_count": 18,
     "metadata": {},
     "output_type": "execute_result"
    },
    {
     "data": {
      "image/png": "[encoded data removed]",
      "text/plain": [
       "<Figure size 432x288 with 1 Axes>"
      ]
     },
     "metadata": {
      "needs_background": "light"
     },
     "output_type": "display_data"
    }
   ],
   "source": [
    "plt.scatter(data['categoryId'], data['dislikes'])"
   ]
  },
  {
   "cell_type": "code",
   "execution_count": 19,
   "metadata": {},
   "outputs": [
    {
     "data": {
      "text/plain": [
       "<matplotlib.collections.PathCollection at 0x7fa1b0e66d90>"
      ]
     },
     "execution_count": 19,
     "metadata": {},
     "output_type": "execute_result"
    },
    {
     "data": {
      "image/png": "[encoded data removed]",
      "text/plain": [
       "<Figure size 432x288 with 1 Axes>"
      ]
     },
     "metadata": {
      "needs_background": "light"
     },
     "output_type": "display_data"
    }
   ],
   "source": [
    "plt.scatter(data['categoryId'], data['comment_count'])"
   ]
  },
  {
   "cell_type": "code",
   "execution_count": 20,
   "metadata": {},
   "outputs": [
    {
     "data": {
      "text/plain": [
       "<matplotlib.collections.PathCollection at 0x7fa1b0ed2ed0>"
      ]
     },
     "execution_count": 20,
     "metadata": {},
     "output_type": "execute_result"
    },
    {
     "data": {
      "image/png": "[encoded data removed]",
      "text/plain": [
       "<Figure size 432x288 with 1 Axes>"
      ]
     },
     "metadata": {
      "needs_background": "light"
     },
     "output_type": "display_data"
    }
   ],
   "source": [
    "plt.scatter(data['categoryId'], data['ratio'])"
   ]
  },
  {
   "cell_type": "code",
   "execution_count": 21,
   "metadata": {},
   "outputs": [
    {
     "data": {
      "text/plain": [
       "<matplotlib.axes._subplots.AxesSubplot at 0x7fa1b1010590>"
      ]
     },
     "execution_count": 21,
     "metadata": {},
     "output_type": "execute_result"
    },
    {
     "data": {
      "image/png": "[encoded data removed]",
      "text/plain": [
       "<Figure size 432x288 with 1 Axes>"
      ]
     },
     "metadata": {
      "needs_background": "light"
     },
     "output_type": "display_data"
    }
   ],
   "source": [
    "sns.violinplot(data['categoryId'], data['likes'])"
   ]
  },
  {
   "cell_type": "code",
   "execution_count": 22,
   "metadata": {},
   "outputs": [
    {
     "data": {
      "text/plain": [
       "<matplotlib.axes._subplots.AxesSubplot at 0x7fa1b10397d0>"
      ]
     },
     "execution_count": 22,
     "metadata": {},
     "output_type": "execute_result"
    },
    {
     "data": {
      "image/png": "[encoded data removed]",
      "text/plain": [
       "<Figure size 432x288 with 1 Axes>"
      ]
     },
     "metadata": {
      "needs_background": "light"
     },
     "output_type": "display_data"
    }
   ],
   "source": [
    "sns.violinplot(data['categoryId'], data['view_count'])"
   ]
  },
  {
   "cell_type": "code",
   "execution_count": 23,
   "metadata": {},
   "outputs": [
    {
     "data": {
      "text/plain": [
       "<matplotlib.axes._subplots.AxesSubplot at 0x7fa1b189acd0>"
      ]
     },
     "execution_count": 23,
     "metadata": {},
     "output_type": "execute_result"
    },
    {
     "data": {
      "image/png": "[encoded data removed]",
      "text/plain": [
       "<Figure size 432x288 with 1 Axes>"
      ]
     },
     "metadata": {
      "needs_background": "light"
     },
     "output_type": "display_data"
    }
   ],
   "source": [
    "sns.violinplot(data['categoryId'], data['comment_count'])"
   ]
  },
  {
   "cell_type": "code",
   "execution_count": 24,
   "metadata": {},
   "outputs": [],
   "source": [
    "cat_tags = []\n",
    "low_cat_tags = []\n",
    "middle_cat_tags = []\n",
    "for i in categories:\n",
    "    sub = data[data['categoryId'] == i]\n",
    "    t_sub = []\n",
    "    raws = sub['tags'].to_list()\n",
    "    for j in raws:\n",
    "        t = j.split(\"|\")\n",
    "        for k in t:\n",
    "            if (k != \"[None]\"):\n",
    "                t_sub.append(k)\n",
    "    t_counts = pd.Series(t_sub).value_counts()\n",
    "    ##Creating the plots to demonstrate viability here\n",
    "    plt.hist(t_counts, density=True)\n",
    "    plt.title(\"Category Tag Distribution\")\n",
    "    plt.legend(categories)\n",
    "    plt.xlabel(\"Tag Counts\")\n",
    "    plt.ylabel(\"Tag Count Frequency\")\n",
    "    plt.xlim(0,70)\n",
    "    plt.ylim(0,.50)\n",
    "    plt.savefig(str(\"category_\" + str(i) + \"tag_counts.png\"))\n",
    "    plt.clf()\n",
    "    sns.distplot(t_counts, kde=True)\n",
    "    print(t_counts)\n",
    "    t_counts = pd.DataFrame(t_counts, columns=[\"n\"])\n",
    "    #relevant = t_counts[t_counts[\"n\"] > (2)]\n",
    "    #relevant = relevant[t_counts[\"n\"] < (ct_mean + (1*ct_std))]\n",
    "    relevant = t_counts.index.tolist()\n",
    "    relevant = relevant[0:5]\n",
    "    irrelevant = t_counts.index.tolist()\n",
    "    irrelevant = irrelevant[len(irrelevant)-5: len(irrelevant)]\n",
    "    middle_cut = int(len(t_counts.index.tolist())/2)\n",
    "    middle = t_counts.index.to_list()\n",
    "    middle = middle[middle_cut-2: middle_cut+2]\n",
    "    cat_tags.append(relevant)\n",
    "    low_cat_tags.append(irrelevant)\n",
    "    middle_cat_tags.append(middle)\n",
    "plt.savefig(\"Seaborn Category Tag Distributions\")"
   ]
  },
  {
   "cell_type": "markdown",
   "metadata": {},
   "source": [
    "## PyTrends Analysis Begins Here\n",
    "### Note: This may not work depending on how cooperative PyTrends will be with you. \n",
    "#### The most necessary subsampled data has been resaved to a CSV used in the more recent notebooks"
   ]
  },
  {
   "cell_type": "code",
   "execution_count": 25,
   "metadata": {},
   "outputs": [],
   "source": [
    "trends = TrendReq(hl='en-US', tz=360)"
   ]
  },
  {
   "cell_type": "code",
   "execution_count": 26,
   "metadata": {},
   "outputs": [
    {
     "ename": "ResponseError",
     "evalue": "The request failed: Google returned a response with code 429.",
     "output_type": "error",
     "traceback": [
      "\u001b[0;31m---------------------------------------------------------------------------\u001b[0m",
      "\u001b[0;31mResponseError\u001b[0m                             Traceback (most recent call last)",
      "\u001b[0;32m<ipython-input-26-1c1d38ef6d58>\u001b[0m in \u001b[0;36m<module>\u001b[0;34m\u001b[0m\n\u001b[1;32m      5\u001b[0m \u001b[0;32mfor\u001b[0m \u001b[0mi\u001b[0m \u001b[0;32min\u001b[0m \u001b[0mrange\u001b[0m\u001b[0;34m(\u001b[0m\u001b[0mlen\u001b[0m\u001b[0;34m(\u001b[0m\u001b[0;34m(\u001b[0m\u001b[0mcategories\u001b[0m\u001b[0;34m)\u001b[0m\u001b[0;34m)\u001b[0m\u001b[0;34m)\u001b[0m\u001b[0;34m:\u001b[0m\u001b[0;34m\u001b[0m\u001b[0;34m\u001b[0m\u001b[0m\n\u001b[1;32m      6\u001b[0m     \u001b[0mhtrends\u001b[0m \u001b[0;34m=\u001b[0m \u001b[0mTrendReq\u001b[0m\u001b[0;34m(\u001b[0m\u001b[0mhl\u001b[0m\u001b[0;34m=\u001b[0m\u001b[0;34m'en-US'\u001b[0m\u001b[0;34m,\u001b[0m \u001b[0mtz\u001b[0m\u001b[0;34m=\u001b[0m\u001b[0;36m360\u001b[0m\u001b[0;34m)\u001b[0m\u001b[0;34m\u001b[0m\u001b[0;34m\u001b[0m\u001b[0m\n\u001b[0;32m----> 7\u001b[0;31m     \u001b[0mhtrends\u001b[0m\u001b[0;34m.\u001b[0m\u001b[0mbuild_payload\u001b[0m\u001b[0;34m(\u001b[0m\u001b[0mcat_tags\u001b[0m\u001b[0;34m[\u001b[0m\u001b[0mi\u001b[0m\u001b[0;34m]\u001b[0m\u001b[0;34m,\u001b[0m \u001b[0mgeo\u001b[0m\u001b[0;34m=\u001b[0m\u001b[0;34m\"US\"\u001b[0m\u001b[0;34m,\u001b[0m \u001b[0mtimeframe\u001b[0m\u001b[0;34m=\u001b[0m\u001b[0;34m'2020-08-11 2020-10-15'\u001b[0m\u001b[0;34m,\u001b[0m \u001b[0mgprop\u001b[0m\u001b[0;34m=\u001b[0m\u001b[0;34m'youtube'\u001b[0m\u001b[0;34m)\u001b[0m\u001b[0;34m\u001b[0m\u001b[0;34m\u001b[0m\u001b[0m\n\u001b[0m\u001b[1;32m      8\u001b[0m     \u001b[0mhigh_list\u001b[0m\u001b[0;34m.\u001b[0m\u001b[0mappend\u001b[0m\u001b[0;34m(\u001b[0m\u001b[0mhtrends\u001b[0m\u001b[0;34m)\u001b[0m\u001b[0;34m\u001b[0m\u001b[0;34m\u001b[0m\u001b[0m\n\u001b[1;32m      9\u001b[0m     \u001b[0mmtrends\u001b[0m \u001b[0;34m=\u001b[0m \u001b[0mTrendReq\u001b[0m\u001b[0;34m(\u001b[0m\u001b[0mhl\u001b[0m\u001b[0;34m=\u001b[0m\u001b[0;34m'en-US'\u001b[0m\u001b[0;34m,\u001b[0m \u001b[0mtz\u001b[0m\u001b[0;34m=\u001b[0m\u001b[0;36m360\u001b[0m\u001b[0;34m)\u001b[0m\u001b[0;34m\u001b[0m\u001b[0;34m\u001b[0m\u001b[0m\n",
      "\u001b[0;32m~/opt/anaconda3/lib/python3.7/site-packages/pytrends/request.py\u001b[0m in \u001b[0;36mbuild_payload\u001b[0;34m(self, kw_list, cat, timeframe, geo, gprop)\u001b[0m\n\u001b[1;32m    167\u001b[0m         \u001b[0mself\u001b[0m\u001b[0;34m.\u001b[0m\u001b[0mtoken_payload\u001b[0m\u001b[0;34m[\u001b[0m\u001b[0;34m'req'\u001b[0m\u001b[0;34m]\u001b[0m \u001b[0;34m=\u001b[0m \u001b[0mjson\u001b[0m\u001b[0;34m.\u001b[0m\u001b[0mdumps\u001b[0m\u001b[0;34m(\u001b[0m\u001b[0mself\u001b[0m\u001b[0;34m.\u001b[0m\u001b[0mtoken_payload\u001b[0m\u001b[0;34m[\u001b[0m\u001b[0;34m'req'\u001b[0m\u001b[0;34m]\u001b[0m\u001b[0;34m)\u001b[0m\u001b[0;34m\u001b[0m\u001b[0;34m\u001b[0m\u001b[0m\n\u001b[1;32m    168\u001b[0m         \u001b[0;31m# get tokens\u001b[0m\u001b[0;34m\u001b[0m\u001b[0;34m\u001b[0m\u001b[0;34m\u001b[0m\u001b[0m\n\u001b[0;32m--> 169\u001b[0;31m         \u001b[0mself\u001b[0m\u001b[0;34m.\u001b[0m\u001b[0m_tokens\u001b[0m\u001b[0;34m(\u001b[0m\u001b[0;34m)\u001b[0m\u001b[0;34m\u001b[0m\u001b[0;34m\u001b[0m\u001b[0m\n\u001b[0m\u001b[1;32m    170\u001b[0m         \u001b[0;32mreturn\u001b[0m\u001b[0;34m\u001b[0m\u001b[0;34m\u001b[0m\u001b[0m\n\u001b[1;32m    171\u001b[0m \u001b[0;34m\u001b[0m\u001b[0m\n",
      "\u001b[0;32m~/opt/anaconda3/lib/python3.7/site-packages/pytrends/request.py\u001b[0m in \u001b[0;36m_tokens\u001b[0;34m(self)\u001b[0m\n\u001b[1;32m    177\u001b[0m             \u001b[0mmethod\u001b[0m\u001b[0;34m=\u001b[0m\u001b[0mTrendReq\u001b[0m\u001b[0;34m.\u001b[0m\u001b[0mGET_METHOD\u001b[0m\u001b[0;34m,\u001b[0m\u001b[0;34m\u001b[0m\u001b[0;34m\u001b[0m\u001b[0m\n\u001b[1;32m    178\u001b[0m             \u001b[0mparams\u001b[0m\u001b[0;34m=\u001b[0m\u001b[0mself\u001b[0m\u001b[0;34m.\u001b[0m\u001b[0mtoken_payload\u001b[0m\u001b[0;34m,\u001b[0m\u001b[0;34m\u001b[0m\u001b[0;34m\u001b[0m\u001b[0m\n\u001b[0;32m--> 179\u001b[0;31m             \u001b[0mtrim_chars\u001b[0m\u001b[0;34m=\u001b[0m\u001b[0;36m4\u001b[0m\u001b[0;34m,\u001b[0m\u001b[0;34m\u001b[0m\u001b[0;34m\u001b[0m\u001b[0m\n\u001b[0m\u001b[1;32m    180\u001b[0m         )['widgets']\n\u001b[1;32m    181\u001b[0m         \u001b[0;31m# order of the json matters...\u001b[0m\u001b[0;34m\u001b[0m\u001b[0;34m\u001b[0m\u001b[0;34m\u001b[0m\u001b[0m\n",
      "\u001b[0;32m~/opt/anaconda3/lib/python3.7/site-packages/pytrends/request.py\u001b[0m in \u001b[0;36m_get_data\u001b[0;34m(self, url, method, trim_chars, **kwargs)\u001b[0m\n\u001b[1;32m    146\u001b[0m                 \u001b[0;34m'The request failed: Google returned a '\u001b[0m\u001b[0;34m\u001b[0m\u001b[0;34m\u001b[0m\u001b[0m\n\u001b[1;32m    147\u001b[0m                 \u001b[0;34m'response with code {0}.'\u001b[0m\u001b[0;34m.\u001b[0m\u001b[0mformat\u001b[0m\u001b[0;34m(\u001b[0m\u001b[0mresponse\u001b[0m\u001b[0;34m.\u001b[0m\u001b[0mstatus_code\u001b[0m\u001b[0;34m)\u001b[0m\u001b[0;34m,\u001b[0m\u001b[0;34m\u001b[0m\u001b[0;34m\u001b[0m\u001b[0m\n\u001b[0;32m--> 148\u001b[0;31m                 response=response)\n\u001b[0m\u001b[1;32m    149\u001b[0m \u001b[0;34m\u001b[0m\u001b[0m\n\u001b[1;32m    150\u001b[0m     def build_payload(self, kw_list, cat=0, timeframe='today 5-y', geo='',\n",
      "\u001b[0;31mResponseError\u001b[0m: The request failed: Google returned a response with code 429."
     ]
    }
   ],
   "source": [
    "trend_list = []\n",
    "high_list = []\n",
    "middle_list = []\n",
    "low_list = []\n",
    "for i in range(len((categories))):\n",
    "    htrends = TrendReq(hl='en-US', tz=360)\n",
    "    htrends.build_payload(cat_tags[i], geo=\"US\", timeframe='2020-08-11 2020-10-15', gprop='youtube')\n",
    "    high_list.append(htrends)\n",
    "    mtrends = TrendReq(hl='en-US', tz=360)\n",
    "    mtrends.build_payload(middle_cat_tags[i], geo=\"US\", timeframe='2020-08-11 2020-10-15', gprop='youtube')\n",
    "    middle_list.append(mtrends)\n",
    "    ltrends = TrendReq(hl='en-US', tz=360)\n",
    "    ltrends.build_payload(low_cat_tags[i], geo=\"US\", timeframe='2020-08-11 2020-10-15', gprop='youtube')\n",
    "    low_list.append(ltrends)"
   ]
  },
  {
   "cell_type": "markdown",
   "metadata": {},
   "source": [
    "#### Trying to establish baseline values per tag per use level"
   ]
  },
  {
   "cell_type": "code",
   "execution_count": null,
   "metadata": {},
   "outputs": [],
   "source": [
    "middle_list[2].interest_over_time().mean().mean()"
   ]
  },
  {
   "cell_type": "code",
   "execution_count": null,
   "metadata": {},
   "outputs": [],
   "source": [
    "high_list[6].interest_over_time().mean().mean()"
   ]
  },
  {
   "cell_type": "code",
   "execution_count": null,
   "metadata": {},
   "outputs": [],
   "source": [
    "low_list[6].interest_over_time().mean().mean()"
   ]
  },
  {
   "cell_type": "code",
   "execution_count": null,
   "metadata": {},
   "outputs": [],
   "source": [
    "high_m = []\n",
    "mid_m = []\n",
    "low_m = []\n",
    "high_s = []\n",
    "low_s = []\n",
    "mid_s = []\n",
    "for i in range(len(categories)):\n",
    "    high_m.append(high_list[i].interest_over_time().mean().mean())\n",
    "    mid_m.append(middle_list[i].interest_over_time().mean().mean())\n",
    "    low_m.append(low_list[i].interest_over_time().mean().mean())\n",
    "    high_s.append(high_list[i].interest_over_time().mean().std())\n",
    "    mid_s.append(middle_list[i].interest_over_time().mean().std())\n",
    "    low_s.append(low_list[i].interest_over_time().mean().std())"
   ]
  },
  {
   "cell_type": "code",
   "execution_count": null,
   "metadata": {},
   "outputs": [],
   "source": [
    "tag_summary = pd.DataFrame([categories, high_m, mid_m, low_m, high_s, mid_s, low_s])"
   ]
  },
  {
   "cell_type": "code",
   "execution_count": null,
   "metadata": {},
   "outputs": [],
   "source": [
    "tag_summary = tag_summary.T"
   ]
  },
  {
   "cell_type": "code",
   "execution_count": null,
   "metadata": {},
   "outputs": [],
   "source": [
    "tag_summary = tag_summary.rename(columns={0:\"Category\", 1:\"High Count Tags\", 2: \"Mid Count Tags\", 3: \"Low Count Tags\",\n",
    "                                          4: \"High StDev\", 5: \"Mid StDev\", 6: \"Low StDev\"})"
   ]
  },
  {
   "cell_type": "code",
   "execution_count": null,
   "metadata": {},
   "outputs": [],
   "source": [
    "tag_summary"
   ]
  },
  {
   "cell_type": "code",
   "execution_count": null,
   "metadata": {},
   "outputs": [],
   "source": [
    "##There is too much overlap to use the tag trend relationship as a predictor in an of itself"
   ]
  },
  {
   "cell_type": "code",
   "execution_count": null,
   "metadata": {},
   "outputs": [],
   "source": [
    "sns.distplot(tag_summary['High Count Tags'])\n",
    "sns.distplot(tag_summary['Low Count Tags'])\n",
    "sns.distplot(tag_summary['Mid Count Tags']).set_title(\"Tag Trend Distribution\")\n",
    "#sns.title(\"Discretized Tag Distribution\")\n",
    "plt.xlabel(\"Average Tag Searches\")\n",
    "plt.ylabel(\"Frequency\")\n",
    "plt.savefig(\"tagtrenddist_large\")"
   ]
  },
  {
   "cell_type": "code",
   "execution_count": null,
   "metadata": {},
   "outputs": [],
   "source": [
    "high_list[0].interest_over_time().groupby(\"date\").sum()"
   ]
  },
  {
   "cell_type": "code",
   "execution_count": null,
   "metadata": {},
   "outputs": [],
   "source": [
    "ttrends = TrendReq(hl='en-US', tz=360)\n",
    "ttrends.build_payload(['Hollywood Undead'], geo=\"US\", timeframe='2020-08-11 2020-10-15', gprop='youtube')\n",
    "test_trends = ttrends.interest_over_time()"
   ]
  },
  {
   "cell_type": "code",
   "execution_count": null,
   "metadata": {},
   "outputs": [],
   "source": [
    "test_trends"
   ]
  },
  {
   "cell_type": "code",
   "execution_count": null,
   "metadata": {},
   "outputs": [],
   "source": [
    "test_trends['x'] = test_trends.index.weekofyear"
   ]
  },
  {
   "cell_type": "code",
   "execution_count": null,
   "metadata": {},
   "outputs": [],
   "source": [
    "test_trends"
   ]
  },
  {
   "cell_type": "code",
   "execution_count": null,
   "metadata": {},
   "outputs": [],
   "source": [
    "data['trend_week'] = data['trend_date'].apply(lambda x: pd.to_datetime(x).weekofyear)\n",
    "data['post_week'] = data['post_date'].apply(lambda x: pd.to_datetime(x).weekofyear)\n",
    "data['trend_lag'] = data.apply(lambda x: pd.to_datetime(x['trend_date']).dayofyear - pd.to_datetime(x['post_date']).dayofyear,axis=1)"
   ]
  },
  {
   "cell_type": "code",
   "execution_count": null,
   "metadata": {},
   "outputs": [],
   "source": [
    "data"
   ]
  },
  {
   "cell_type": "code",
   "execution_count": null,
   "metadata": {},
   "outputs": [],
   "source": [
    "plt.scatter(data['categoryId'], data['trend_lag'])\n",
    "plt.title(\"Category versus Trend Lag\")\n",
    "plt.xlabel(\"Category ID\")\n",
    "plt.ylabel(\"Trend Lag in Day\")\n",
    "plt.savefig(\"TrendLag.png\")"
   ]
  },
  {
   "cell_type": "code",
   "execution_count": 9,
   "metadata": {},
   "outputs": [
    {
     "data": {
      "text/plain": [
       "14198"
      ]
     },
     "execution_count": 9,
     "metadata": {},
     "output_type": "execute_result"
    }
   ],
   "source": [
    "channels = data['channelTitle'].to_list()\n",
    "len(channels)"
   ]
  },
  {
   "cell_type": "code",
   "execution_count": 10,
   "metadata": {},
   "outputs": [
    {
     "data": {
      "text/plain": [
       "1529"
      ]
     },
     "execution_count": 10,
     "metadata": {},
     "output_type": "execute_result"
    }
   ],
   "source": [
    "channels = list(set(channels))\n",
    "len(channels)"
   ]
  },
  {
   "cell_type": "markdown",
   "metadata": {},
   "source": [
    "#### This analysis angered Google\n",
    "##### But we are trying to establish baseline tendancies per channel"
   ]
  },
  {
   "cell_type": "code",
   "execution_count": 30,
   "metadata": {},
   "outputs": [],
   "source": [
    "#for i in channels:\n",
    "#    c = TrendReq(hl='en-US', tz=360)\n",
    "#    c.build_payload([i], geo=\"US\", timeframe='2020-08-11 2020-10-15', gprop='youtube')"
   ]
  },
  {
   "cell_type": "code",
   "execution_count": 31,
   "metadata": {},
   "outputs": [],
   "source": [
    "#c"
   ]
  },
  {
   "cell_type": "code",
   "execution_count": 32,
   "metadata": {},
   "outputs": [
    {
     "ename": "ResponseError",
     "evalue": "The request failed: Google returned a response with code 429.",
     "output_type": "error",
     "traceback": [
      "\u001b[0;31m---------------------------------------------------------------------------\u001b[0m",
      "\u001b[0;31mResponseError\u001b[0m                             Traceback (most recent call last)",
      "\u001b[0;32m<ipython-input-32-878a600836dd>\u001b[0m in \u001b[0;36m<module>\u001b[0;34m\u001b[0m\n\u001b[1;32m      1\u001b[0m \u001b[0mc\u001b[0m \u001b[0;34m=\u001b[0m \u001b[0mTrendReq\u001b[0m\u001b[0;34m(\u001b[0m\u001b[0mhl\u001b[0m\u001b[0;34m=\u001b[0m\u001b[0;34m'en-US'\u001b[0m\u001b[0;34m,\u001b[0m \u001b[0mtz\u001b[0m\u001b[0;34m=\u001b[0m\u001b[0;36m360\u001b[0m\u001b[0;34m)\u001b[0m\u001b[0;34m\u001b[0m\u001b[0;34m\u001b[0m\u001b[0m\n\u001b[0;32m----> 2\u001b[0;31m \u001b[0mc\u001b[0m\u001b[0;34m.\u001b[0m\u001b[0mbuild_payload\u001b[0m\u001b[0;34m(\u001b[0m\u001b[0;34m[\u001b[0m\u001b[0;34m'CBS News'\u001b[0m\u001b[0;34m]\u001b[0m\u001b[0;34m,\u001b[0m \u001b[0mgeo\u001b[0m\u001b[0;34m=\u001b[0m\u001b[0;34m\"US\"\u001b[0m\u001b[0;34m,\u001b[0m \u001b[0mtimeframe\u001b[0m\u001b[0;34m=\u001b[0m\u001b[0;34m'2020-08-11 2020-10-15'\u001b[0m\u001b[0;34m,\u001b[0m \u001b[0mgprop\u001b[0m\u001b[0;34m=\u001b[0m\u001b[0;34m'youtube'\u001b[0m\u001b[0;34m)\u001b[0m\u001b[0;34m\u001b[0m\u001b[0;34m\u001b[0m\u001b[0m\n\u001b[0m",
      "\u001b[0;32m~/opt/anaconda3/lib/python3.7/site-packages/pytrends/request.py\u001b[0m in \u001b[0;36mbuild_payload\u001b[0;34m(self, kw_list, cat, timeframe, geo, gprop)\u001b[0m\n\u001b[1;32m    167\u001b[0m         \u001b[0mself\u001b[0m\u001b[0;34m.\u001b[0m\u001b[0mtoken_payload\u001b[0m\u001b[0;34m[\u001b[0m\u001b[0;34m'req'\u001b[0m\u001b[0;34m]\u001b[0m \u001b[0;34m=\u001b[0m \u001b[0mjson\u001b[0m\u001b[0;34m.\u001b[0m\u001b[0mdumps\u001b[0m\u001b[0;34m(\u001b[0m\u001b[0mself\u001b[0m\u001b[0;34m.\u001b[0m\u001b[0mtoken_payload\u001b[0m\u001b[0;34m[\u001b[0m\u001b[0;34m'req'\u001b[0m\u001b[0;34m]\u001b[0m\u001b[0;34m)\u001b[0m\u001b[0;34m\u001b[0m\u001b[0;34m\u001b[0m\u001b[0m\n\u001b[1;32m    168\u001b[0m         \u001b[0;31m# get tokens\u001b[0m\u001b[0;34m\u001b[0m\u001b[0;34m\u001b[0m\u001b[0;34m\u001b[0m\u001b[0m\n\u001b[0;32m--> 169\u001b[0;31m         \u001b[0mself\u001b[0m\u001b[0;34m.\u001b[0m\u001b[0m_tokens\u001b[0m\u001b[0;34m(\u001b[0m\u001b[0;34m)\u001b[0m\u001b[0;34m\u001b[0m\u001b[0;34m\u001b[0m\u001b[0m\n\u001b[0m\u001b[1;32m    170\u001b[0m         \u001b[0;32mreturn\u001b[0m\u001b[0;34m\u001b[0m\u001b[0;34m\u001b[0m\u001b[0m\n\u001b[1;32m    171\u001b[0m \u001b[0;34m\u001b[0m\u001b[0m\n",
      "\u001b[0;32m~/opt/anaconda3/lib/python3.7/site-packages/pytrends/request.py\u001b[0m in \u001b[0;36m_tokens\u001b[0;34m(self)\u001b[0m\n\u001b[1;32m    177\u001b[0m             \u001b[0mmethod\u001b[0m\u001b[0;34m=\u001b[0m\u001b[0mTrendReq\u001b[0m\u001b[0;34m.\u001b[0m\u001b[0mGET_METHOD\u001b[0m\u001b[0;34m,\u001b[0m\u001b[0;34m\u001b[0m\u001b[0;34m\u001b[0m\u001b[0m\n\u001b[1;32m    178\u001b[0m             \u001b[0mparams\u001b[0m\u001b[0;34m=\u001b[0m\u001b[0mself\u001b[0m\u001b[0;34m.\u001b[0m\u001b[0mtoken_payload\u001b[0m\u001b[0;34m,\u001b[0m\u001b[0;34m\u001b[0m\u001b[0;34m\u001b[0m\u001b[0m\n\u001b[0;32m--> 179\u001b[0;31m             \u001b[0mtrim_chars\u001b[0m\u001b[0;34m=\u001b[0m\u001b[0;36m4\u001b[0m\u001b[0;34m,\u001b[0m\u001b[0;34m\u001b[0m\u001b[0;34m\u001b[0m\u001b[0m\n\u001b[0m\u001b[1;32m    180\u001b[0m         )['widgets']\n\u001b[1;32m    181\u001b[0m         \u001b[0;31m# order of the json matters...\u001b[0m\u001b[0;34m\u001b[0m\u001b[0;34m\u001b[0m\u001b[0;34m\u001b[0m\u001b[0m\n",
      "\u001b[0;32m~/opt/anaconda3/lib/python3.7/site-packages/pytrends/request.py\u001b[0m in \u001b[0;36m_get_data\u001b[0;34m(self, url, method, trim_chars, **kwargs)\u001b[0m\n\u001b[1;32m    146\u001b[0m                 \u001b[0;34m'The request failed: Google returned a '\u001b[0m\u001b[0;34m\u001b[0m\u001b[0;34m\u001b[0m\u001b[0m\n\u001b[1;32m    147\u001b[0m                 \u001b[0;34m'response with code {0}.'\u001b[0m\u001b[0;34m.\u001b[0m\u001b[0mformat\u001b[0m\u001b[0;34m(\u001b[0m\u001b[0mresponse\u001b[0m\u001b[0;34m.\u001b[0m\u001b[0mstatus_code\u001b[0m\u001b[0;34m)\u001b[0m\u001b[0;34m,\u001b[0m\u001b[0;34m\u001b[0m\u001b[0;34m\u001b[0m\u001b[0m\n\u001b[0;32m--> 148\u001b[0;31m                 response=response)\n\u001b[0m\u001b[1;32m    149\u001b[0m \u001b[0;34m\u001b[0m\u001b[0m\n\u001b[1;32m    150\u001b[0m     def build_payload(self, kw_list, cat=0, timeframe='today 5-y', geo='',\n",
      "\u001b[0;31mResponseError\u001b[0m: The request failed: Google returned a response with code 429."
     ]
    }
   ],
   "source": [
    "c = TrendReq(hl='en-US', tz=360)\n",
    "c.build_payload(['CBS News'], geo=\"US\", timeframe='2020-08-11 2020-10-15', gprop='youtube')"
   ]
  },
  {
   "cell_type": "code",
   "execution_count": null,
   "metadata": {},
   "outputs": [],
   "source": [
    "t = c.interest_over_time()\n",
    "t['w'] = t.index.weekofyear\n",
    "plt.scatter(t.index,t['CBS News'])\n",
    "plt.xticks(rotation=90)\n",
    "plt.xlim('2020-08-11', '2020-10-15')"
   ]
  },
  {
   "cell_type": "markdown",
   "metadata": {},
   "source": [
    "#### Test cases for proof of concept - Plots as well"
   ]
  },
  {
   "cell_type": "code",
   "execution_count": null,
   "metadata": {},
   "outputs": [],
   "source": [
    "data[data['channelTitle'] == \"CBS News\"][['video_id','post_date', 'trend_date','trend_week']]"
   ]
  },
  {
   "cell_type": "code",
   "execution_count": null,
   "metadata": {},
   "outputs": [],
   "source": [
    "t[t.index == ('2020-09-25'or'2020-10-01')]"
   ]
  },
  {
   "cell_type": "code",
   "execution_count": null,
   "metadata": {},
   "outputs": [],
   "source": [
    "channels[1]"
   ]
  },
  {
   "cell_type": "code",
   "execution_count": null,
   "metadata": {},
   "outputs": [],
   "source": [
    "c = TrendReq(hl='en-US', tz=360)\n",
    "c.build_payload(['Cyberpunk 2077'], geo=\"US\", timeframe='2020-08-11 2020-10-15', gprop='youtube')\n",
    "t = c.interest_over_time()\n",
    "t['w'] = t.index.weekofyear\n",
    "plt.scatter(t['w'],t['Cyberpunk 2077'])\n",
    "plt.clf()\n",
    "#plt.scatter(t.index, t['Cyberpunk 2077'])\n",
    "#plt.xticks(rotation=90)\n",
    "print(t)"
   ]
  },
  {
   "cell_type": "code",
   "execution_count": null,
   "metadata": {},
   "outputs": [],
   "source": [
    "data[data['channelTitle'] == \"Cyberpunk 2077\"][['trend_date','video_id', 'trend_week']]"
   ]
  },
  {
   "cell_type": "code",
   "execution_count": null,
   "metadata": {},
   "outputs": [],
   "source": [
    "m = t['Cyberpunk 2077'].mean()"
   ]
  },
  {
   "cell_type": "code",
   "execution_count": null,
   "metadata": {},
   "outputs": [],
   "source": [
    "st = t['Cyberpunk 2077'].std()"
   ]
  },
  {
   "cell_type": "code",
   "execution_count": null,
   "metadata": {},
   "outputs": [],
   "source": [
    "t[t['Cyberpunk 2077'] > (m + (1.5 * st))]"
   ]
  },
  {
   "cell_type": "code",
   "execution_count": null,
   "metadata": {},
   "outputs": [],
   "source": [
    "tg = t.groupby(\"w\").mean()\n",
    "tg_mean = tg['Cyberpunk 2077'].mean()\n",
    "tg_stdev = tg['Cyberpunk 2077'].std()"
   ]
  },
  {
   "cell_type": "code",
   "execution_count": null,
   "metadata": {},
   "outputs": [],
   "source": [
    "tg"
   ]
  },
  {
   "cell_type": "code",
   "execution_count": null,
   "metadata": {},
   "outputs": [],
   "source": [
    "tg_mean"
   ]
  },
  {
   "cell_type": "code",
   "execution_count": null,
   "metadata": {},
   "outputs": [],
   "source": [
    "tg_stdev"
   ]
  },
  {
   "cell_type": "code",
   "execution_count": null,
   "metadata": {},
   "outputs": [],
   "source": [
    "def tag_split(tag_list):\n",
    "    tl = tag_list.split(\"T\")\n",
    "    return tl"
   ]
  },
  {
   "cell_type": "code",
   "execution_count": null,
   "metadata": {},
   "outputs": [],
   "source": [
    "data[data['channelTitle'] == \"CBS News\"]"
   ]
  },
  {
   "cell_type": "code",
   "execution_count": 38,
   "metadata": {},
   "outputs": [],
   "source": [
    "pytrend = TrendReq()\n",
    "#channel_trends = pd.DataFrame()\n",
    "channel_trends = []\n",
    "valid_channels = []\n",
    "channels = channels[0:200]\n",
    "for i in channels:\n",
    "    c = TrendReq(hl='en-US', tz=360, timeout=(10,25), retries=2, backoff_factor=0.1)\n",
    "    c.build_payload([i], geo=\"US\", timeframe='2020-08-11 2020-10-15', gprop='youtube')\n",
    "    temp = pd.DataFrame(c.interest_over_time())\n",
    "    if (len(temp) != 0):\n",
    "        valid_channels.append(i)\n",
    "        temp = temp[i]\n",
    "        temp = temp.T\n",
    "        channel_trends.append(temp.T)"
   ]
  },
  {
   "cell_type": "markdown",
   "metadata": {},
   "source": [
    "##### Used to generate the channel_trends data used for later analysis, made obselete for stability"
   ]
  },
  {
   "cell_type": "code",
   "execution_count": 501,
   "metadata": {},
   "outputs": [
    {
     "name": "stderr",
     "output_type": "stream",
     "text": [
      "/Users/ns41388/opt/anaconda3/lib/python3.7/site-packages/ipykernel_launcher.py:1: FutureWarning: The signature of `Series.to_csv` was aligned to that of `DataFrame.to_csv`, and argument 'header' will change its default value from False to True: please pass an explicit value to suppress this warning.\n",
      "  \"\"\"Entry point for launching an IPython kernel.\n"
     ]
    }
   ],
   "source": [
    "pd.Series(channel_trends).to_csv(\"channel_trends_old.csv\")"
   ]
  },
  {
   "cell_type": "code",
   "execution_count": 431,
   "metadata": {},
   "outputs": [
    {
     "name": "stderr",
     "output_type": "stream",
     "text": [
      "/Users/ns41388/opt/anaconda3/lib/python3.7/site-packages/ipykernel_launcher.py:1: FutureWarning: The signature of `Series.to_csv` was aligned to that of `DataFrame.to_csv`, and argument 'header' will change its default value from False to True: please pass an explicit value to suppress this warning.\n",
      "  \"\"\"Entry point for launching an IPython kernel.\n"
     ]
    }
   ],
   "source": [
    "pd.Series(valid_channels).to_csv(\"valid_channels_old\")"
   ]
  },
  {
   "cell_type": "markdown",
   "metadata": {},
   "source": [
    "## Subset Trend Analysis - Initial Attempt\n",
    "#### This is the first attempt, this is explored more in the 3rd Notebook\n",
    "##### Initial attempt used an invalid scoring metric, but was somewhat promising."
   ]
  },
  {
   "cell_type": "code",
   "execution_count": 503,
   "metadata": {},
   "outputs": [],
   "source": [
    "ctdf = pd.DataFrame(channel_trends[0])"
   ]
  },
  {
   "cell_type": "code",
   "execution_count": 478,
   "metadata": {},
   "outputs": [],
   "source": [
    "ctdf = ctdf.T"
   ]
  },
  {
   "cell_type": "code",
   "execution_count": 479,
   "metadata": {},
   "outputs": [],
   "source": [
    " for i in range(1,len(valid_channels)):\n",
    "    ct_t = pd.DataFrame(channel_trends[i])\n",
    "    ct_t = ct_t.T\n",
    "    ctdf = ctdf.append(ct_t)"
   ]
  },
  {
   "cell_type": "code",
   "execution_count": 480,
   "metadata": {},
   "outputs": [],
   "source": [
    "def in_v(x):\n",
    "    if x in valid_channels:\n",
    "        return True\n",
    "    else:\n",
    "        return False\n",
    "\n",
    "data['v'] = data['channelTitle'].apply(lambda x: in_v(x))"
   ]
  },
  {
   "cell_type": "code",
   "execution_count": 502,
   "metadata": {},
   "outputs": [],
   "source": [
    "len(valid_channels)\n",
    "ctdf.to_csv(\"channel_trending_old.csv\")"
   ]
  },
  {
   "cell_type": "code",
   "execution_count": 482,
   "metadata": {},
   "outputs": [],
   "source": [
    "subdata = (data[data['v'] == True]).copy(deep=True)"
   ]
  },
  {
   "cell_type": "code",
   "execution_count": 483,
   "metadata": {},
   "outputs": [
    {
     "data": {
      "text/html": [
       "<div>\n",
       "<style scoped>\n",
       "    .dataframe tbody tr th:only-of-type {\n",
       "        vertical-align: middle;\n",
       "    }\n",
       "\n",
       "    .dataframe tbody tr th {\n",
       "        vertical-align: top;\n",
       "    }\n",
       "\n",
       "    .dataframe thead th {\n",
       "        text-align: right;\n",
       "    }\n",
       "</style>\n",
       "<table border=\"1\" class=\"dataframe\">\n",
       "  <thead>\n",
       "    <tr style=\"text-align: right;\">\n",
       "      <th>date</th>\n",
       "      <th>channelTitle</th>\n",
       "      <th>2020-08-11 00:00:00</th>\n",
       "      <th>2020-08-12 00:00:00</th>\n",
       "      <th>2020-08-13 00:00:00</th>\n",
       "      <th>2020-08-14 00:00:00</th>\n",
       "      <th>2020-08-15 00:00:00</th>\n",
       "      <th>2020-08-16 00:00:00</th>\n",
       "      <th>2020-08-17 00:00:00</th>\n",
       "      <th>2020-08-18 00:00:00</th>\n",
       "      <th>2020-08-19 00:00:00</th>\n",
       "      <th>...</th>\n",
       "      <th>2020-10-06 00:00:00</th>\n",
       "      <th>2020-10-07 00:00:00</th>\n",
       "      <th>2020-10-08 00:00:00</th>\n",
       "      <th>2020-10-09 00:00:00</th>\n",
       "      <th>2020-10-10 00:00:00</th>\n",
       "      <th>2020-10-11 00:00:00</th>\n",
       "      <th>2020-10-12 00:00:00</th>\n",
       "      <th>2020-10-13 00:00:00</th>\n",
       "      <th>2020-10-14 00:00:00</th>\n",
       "      <th>2020-10-15 00:00:00</th>\n",
       "    </tr>\n",
       "  </thead>\n",
       "  <tbody>\n",
       "    <tr>\n",
       "      <td>0</td>\n",
       "      <td>Mystic</td>\n",
       "      <td>65</td>\n",
       "      <td>57</td>\n",
       "      <td>63</td>\n",
       "      <td>54</td>\n",
       "      <td>64</td>\n",
       "      <td>70</td>\n",
       "      <td>37</td>\n",
       "      <td>59</td>\n",
       "      <td>77</td>\n",
       "      <td>...</td>\n",
       "      <td>64</td>\n",
       "      <td>62</td>\n",
       "      <td>68</td>\n",
       "      <td>63</td>\n",
       "      <td>83</td>\n",
       "      <td>55</td>\n",
       "      <td>56</td>\n",
       "      <td>72</td>\n",
       "      <td>71</td>\n",
       "      <td>51</td>\n",
       "    </tr>\n",
       "    <tr>\n",
       "      <td>1</td>\n",
       "      <td>SuperSaf</td>\n",
       "      <td>0</td>\n",
       "      <td>0</td>\n",
       "      <td>81</td>\n",
       "      <td>0</td>\n",
       "      <td>0</td>\n",
       "      <td>0</td>\n",
       "      <td>0</td>\n",
       "      <td>0</td>\n",
       "      <td>0</td>\n",
       "      <td>...</td>\n",
       "      <td>0</td>\n",
       "      <td>0</td>\n",
       "      <td>0</td>\n",
       "      <td>0</td>\n",
       "      <td>0</td>\n",
       "      <td>0</td>\n",
       "      <td>0</td>\n",
       "      <td>0</td>\n",
       "      <td>0</td>\n",
       "      <td>87</td>\n",
       "    </tr>\n",
       "    <tr>\n",
       "      <td>2</td>\n",
       "      <td>euphoria</td>\n",
       "      <td>79</td>\n",
       "      <td>91</td>\n",
       "      <td>83</td>\n",
       "      <td>77</td>\n",
       "      <td>79</td>\n",
       "      <td>79</td>\n",
       "      <td>100</td>\n",
       "      <td>82</td>\n",
       "      <td>81</td>\n",
       "      <td>...</td>\n",
       "      <td>49</td>\n",
       "      <td>67</td>\n",
       "      <td>67</td>\n",
       "      <td>42</td>\n",
       "      <td>58</td>\n",
       "      <td>45</td>\n",
       "      <td>44</td>\n",
       "      <td>51</td>\n",
       "      <td>45</td>\n",
       "      <td>52</td>\n",
       "    </tr>\n",
       "    <tr>\n",
       "      <td>3</td>\n",
       "      <td>Ar'mon And Trey</td>\n",
       "      <td>47</td>\n",
       "      <td>94</td>\n",
       "      <td>73</td>\n",
       "      <td>71</td>\n",
       "      <td>31</td>\n",
       "      <td>46</td>\n",
       "      <td>43</td>\n",
       "      <td>63</td>\n",
       "      <td>96</td>\n",
       "      <td>...</td>\n",
       "      <td>51</td>\n",
       "      <td>50</td>\n",
       "      <td>88</td>\n",
       "      <td>49</td>\n",
       "      <td>73</td>\n",
       "      <td>68</td>\n",
       "      <td>87</td>\n",
       "      <td>45</td>\n",
       "      <td>61</td>\n",
       "      <td>95</td>\n",
       "    </tr>\n",
       "    <tr>\n",
       "      <td>4</td>\n",
       "      <td>Kurtis Conner</td>\n",
       "      <td>62</td>\n",
       "      <td>47</td>\n",
       "      <td>53</td>\n",
       "      <td>31</td>\n",
       "      <td>38</td>\n",
       "      <td>42</td>\n",
       "      <td>45</td>\n",
       "      <td>45</td>\n",
       "      <td>41</td>\n",
       "      <td>...</td>\n",
       "      <td>39</td>\n",
       "      <td>38</td>\n",
       "      <td>20</td>\n",
       "      <td>33</td>\n",
       "      <td>58</td>\n",
       "      <td>36</td>\n",
       "      <td>24</td>\n",
       "      <td>39</td>\n",
       "      <td>30</td>\n",
       "      <td>25</td>\n",
       "    </tr>\n",
       "  </tbody>\n",
       "</table>\n",
       "<p>5 rows × 67 columns</p>\n",
       "</div>"
      ],
      "text/plain": [
       "date     channelTitle  2020-08-11 00:00:00  2020-08-12 00:00:00  \\\n",
       "0              Mystic                   65                   57   \n",
       "1            SuperSaf                    0                    0   \n",
       "2            euphoria                   79                   91   \n",
       "3     Ar'mon And Trey                   47                   94   \n",
       "4       Kurtis Conner                   62                   47   \n",
       "\n",
       "date  2020-08-13 00:00:00  2020-08-14 00:00:00  2020-08-15 00:00:00  \\\n",
       "0                      63                   54                   64   \n",
       "1                      81                    0                    0   \n",
       "2                      83                   77                   79   \n",
       "3                      73                   71                   31   \n",
       "4                      53                   31                   38   \n",
       "\n",
       "date  2020-08-16 00:00:00  2020-08-17 00:00:00  2020-08-18 00:00:00  \\\n",
       "0                      70                   37                   59   \n",
       "1                       0                    0                    0   \n",
       "2                      79                  100                   82   \n",
       "3                      46                   43                   63   \n",
       "4                      42                   45                   45   \n",
       "\n",
       "date  2020-08-19 00:00:00  ...  2020-10-06 00:00:00  2020-10-07 00:00:00  \\\n",
       "0                      77  ...                   64                   62   \n",
       "1                       0  ...                    0                    0   \n",
       "2                      81  ...                   49                   67   \n",
       "3                      96  ...                   51                   50   \n",
       "4                      41  ...                   39                   38   \n",
       "\n",
       "date  2020-10-08 00:00:00  2020-10-09 00:00:00  2020-10-10 00:00:00  \\\n",
       "0                      68                   63                   83   \n",
       "1                       0                    0                    0   \n",
       "2                      67                   42                   58   \n",
       "3                      88                   49                   73   \n",
       "4                      20                   33                   58   \n",
       "\n",
       "date  2020-10-11 00:00:00  2020-10-12 00:00:00  2020-10-13 00:00:00  \\\n",
       "0                      55                   56                   72   \n",
       "1                       0                    0                    0   \n",
       "2                      45                   44                   51   \n",
       "3                      68                   87                   45   \n",
       "4                      36                   24                   39   \n",
       "\n",
       "date  2020-10-14 00:00:00  2020-10-15 00:00:00  \n",
       "0                      71                   51  \n",
       "1                       0                   87  \n",
       "2                      45                   52  \n",
       "3                      61                   95  \n",
       "4                      30                   25  \n",
       "\n",
       "[5 rows x 67 columns]"
      ]
     },
     "execution_count": 483,
     "metadata": {},
     "output_type": "execute_result"
    }
   ],
   "source": [
    "ctdf = ctdf.reset_index()\n",
    "ctdf = ctdf.rename(columns={\"index\": \"channelTitle\"})\n",
    "ctdf.head()"
   ]
  },
  {
   "cell_type": "code",
   "execution_count": 484,
   "metadata": {},
   "outputs": [],
   "source": [
    "channel_ave = []\n",
    "dates = ctdf.columns\n",
    "dates = dates[1:len(ctdf.columns)]\n",
    "for i in range(len(ctdf)):\n",
    "    a = ctdf.iloc[i]\n",
    "    #print(a)\n",
    "    t = []\n",
    "    for j in range(1,67):\n",
    "        t.append(a[j])\n",
    "   # sns.lineplot(x=dates, y=t)\n",
    "    channel_ave.append(t)\n",
    "    \n",
    "#plt.savefig(\"trendsbychannel\", dpi=300)"
   ]
  },
  {
   "cell_type": "code",
   "execution_count": 485,
   "metadata": {},
   "outputs": [],
   "source": [
    "def st_iqr(c, m, s,f=1.5):\n",
    "    if (c >= (m + (f*s))):\n",
    "        return True\n",
    "    else:\n",
    "        return False"
   ]
  },
  {
   "cell_type": "code",
   "execution_count": 486,
   "metadata": {},
   "outputs": [],
   "source": [
    "averages = [np.mean(x) for x in channel_ave]\n",
    "stdevs = [np.std(x) for x in channel_ave]\n",
    "trues = []"
   ]
  },
  {
   "cell_type": "code",
   "execution_count": 487,
   "metadata": {},
   "outputs": [],
   "source": [
    "for i in range(len(ctdf)):\n",
    "    a = ctdf.iloc[i]\n",
    "    ts = 0\n",
    "    t = []\n",
    "    for j in range(1,67):\n",
    "        if (st_iqr(a[j], averages[i], stdevs[i])):\n",
    "            ts = ts+1\n",
    "    trues.append(ts)\n"
   ]
  },
  {
   "cell_type": "code",
   "execution_count": 488,
   "metadata": {},
   "outputs": [],
   "source": [
    "trues;"
   ]
  },
  {
   "cell_type": "code",
   "execution_count": 489,
   "metadata": {},
   "outputs": [],
   "source": [
    "ctdf['channel_average'] = averages\n",
    "ctdf['channel_std'] = stdevs\n",
    "ctdf['trues'] = trues"
   ]
  },
  {
   "cell_type": "code",
   "execution_count": 490,
   "metadata": {},
   "outputs": [],
   "source": [
    "subdata = subdata.merge(ctdf, left_on=\"channelTitle\", right_on=\"channelTitle\")"
   ]
  },
  {
   "cell_type": "code",
   "execution_count": 492,
   "metadata": {},
   "outputs": [],
   "source": [
    "subdata.to_csv(\"subdata_old.csv\")"
   ]
  },
  {
   "cell_type": "code",
   "execution_count": 493,
   "metadata": {},
   "outputs": [],
   "source": [
    "id_redundancies = subdata['video_id']\n",
    "id_redundancies = id_redundancies.value_counts()\n",
    "subdata['peaks'] = subdata['video_id'].apply(lambda x: id_redundancies.loc[x])\n",
    "ctdf['peaks'] = subdata['video_id'].apply(lambda x: id_redundancies.loc[x])"
   ]
  },
  {
   "cell_type": "code",
   "execution_count": 494,
   "metadata": {},
   "outputs": [],
   "source": [
    "ctdf['squared_error'] = subdata.apply(lambda x: (x['peaks'] - x['trues'])*(x['peaks'] - x['trues']), axis=1)"
   ]
  },
  {
   "cell_type": "code",
   "execution_count": 496,
   "metadata": {},
   "outputs": [
    {
     "data": {
      "text/plain": [
       "6.767281105990784"
      ]
     },
     "execution_count": 496,
     "metadata": {},
     "output_type": "execute_result"
    }
   ],
   "source": [
    "subdata['squared_error'].mean()"
   ]
  },
  {
   "cell_type": "code",
   "execution_count": null,
   "metadata": {},
   "outputs": [],
   "source": []
  }
 ],
 "metadata": {
  "kernelspec": {
   "display_name": "Python 3",
   "language": "python",
   "name": "python3"
  },
  "language_info": {
   "codemirror_mode": {
    "name": "ipython",
    "version": 3
   },
   "file_extension": ".py",
   "mimetype": "text/x-python",
   "name": "python",
   "nbconvert_exporter": "python",
   "pygments_lexer": "ipython3",
   "version": "3.7.4"
  }
 },
 "nbformat": 4,
 "nbformat_minor": 4
}
